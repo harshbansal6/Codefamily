{
  "nbformat": 4,
  "nbformat_minor": 0,
  "metadata": {
    "colab": {
      "provenance": [],
      "collapsed_sections": []
    },
    "kernelspec": {
      "name": "python3",
      "display_name": "Python 3"
    },
    "language_info": {
      "name": "python"
    }
  },
  "cells": [
    {
      "cell_type": "markdown",
      "source": [
        "## Task -2: Fundamentals of Python\n",
        "1) You have to given a string and you have to swap that string in other words.\n",
        "Covert all the lowercase letter into uppercase and vice versa"
      ],
      "metadata": {
        "id": "4JJMfYQz23hB"
      }
    },
    {
      "cell_type": "code",
      "execution_count": null,
      "metadata": {
        "colab": {
          "base_uri": "https://localhost:8080/"
        },
        "id": "1XrGtWL42uOV",
        "outputId": "a04d03bb-111c-430c-bfda-c82bbd8cf579"
      },
      "outputs": [
        {
          "output_type": "stream",
          "name": "stdout",
          "text": [
            "Enter the string:Hello Code Family\n",
            "String after case conversion : hELLO cODE fAMILY\n"
          ]
        }
      ],
      "source": [
        "str1=input(\"Enter the string:\") \n",
        "newStr = \"\"  \n",
        "   \n",
        "for i in range(0, len(str1)):  \n",
        "    #Checks for lower case character  \n",
        "    if str1[i].islower():  \n",
        "        #Convert it into upper case using upper () function  \n",
        "        newStr += str1[i].upper()  \n",
        "    #Checks for upper case character  \n",
        "    elif str1[i].isupper():  \n",
        "        #Convert it into lower case using lower () function  \n",
        "        newStr += str1[i].lower()  \n",
        "      \n",
        "    else:  \n",
        "        newStr += str1[i]       \n",
        "print(\"String after case conversion : \" +  newStr)"
      ]
    },
    {
      "cell_type": "markdown",
      "source": [
        "2) You have to given s string and you have to capitalize first two characte of the string. Given a full name and you have to capitalize the name appropriately."
      ],
      "metadata": {
        "id": "OV2epsRzX88H"
      }
    },
    {
      "cell_type": "code",
      "source": [
        "s = input(\"Enter the name:\")\n",
        "l = s.split()\n",
        "for word in l:\n",
        "  l1= word[:2].upper()\n",
        "  l1+= word[2:]\n",
        "  print(l1, end=\" \")"
      ],
      "metadata": {
        "id": "oHycKxKX4YYW",
        "colab": {
          "base_uri": "https://localhost:8080/"
        },
        "outputId": "40ee089a-6ab9-42a0-e1a6-2abaeb08ad64"
      },
      "execution_count": null,
      "outputs": [
        {
          "output_type": "stream",
          "name": "stdout",
          "text": [
            "Enter the name:marley bob\n",
            "MArley BOb "
          ]
        }
      ]
    },
    {
      "cell_type": "markdown",
      "source": [
        "3) You have to given a information about N people. Each person has name, last name, age, sex,city. Print names in a specific format in descending order i.e the elder person name should be their in order of print."
      ],
      "metadata": {
        "id": "qT97Uq7kYwHR"
      }
    },
    {
      "cell_type": "code",
      "source": [
        "# Taking input from user\n",
        "n = int(input())\n",
        "dict = {}\n",
        "for _ in range(n):\n",
        "    p1 = list(map(str,input().split()))\n",
        "    if int(p1[1]) not in dict:\n",
        "        dict[int(p1[1])] = [p1]\n",
        "    elif int(p1[1]) in dict:\n",
        "        dict[int(p1[1])].append(p1)\n",
        "    s = sorted(dict, reverse = True)\n",
        "print()\n",
        "for i in s:\n",
        "    if len(dict[i])<2:\n",
        "        print(\" \".join(dict[i][0]))\n",
        "    else:\n",
        "        for ele in dict[i]:\n",
        "            print(\" \".join(ele))"
      ],
      "metadata": {
        "id": "DB4yGnyygXbF",
        "colab": {
          "base_uri": "https://localhost:8080/"
        },
        "outputId": "9c26003e-d343-4976-fa25-eb439293126e"
      },
      "execution_count": 7,
      "outputs": [
        {
          "output_type": "stream",
          "name": "stdout",
          "text": [
            "3\n",
            "john 20 m mumbai\n",
            "robert 36 f bangalore\n",
            "nicks 34 m pune\n",
            "\n",
            "robert 36 f bangalore\n",
            "nicks 34 m pune\n",
            "john 20 m mumbai\n"
          ]
        }
      ]
    },
    {
      "cell_type": "code",
      "source": [],
      "metadata": {
        "id": "HKYvofAMIdZW"
      },
      "execution_count": null,
      "outputs": []
    }
  ]
}