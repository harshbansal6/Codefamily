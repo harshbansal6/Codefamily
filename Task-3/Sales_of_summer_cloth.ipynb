{
  "cells": [
    {
      "cell_type": "markdown",
      "source": [
        "# Task - 3\n",
        "Take dataset from Kaggale and import the dataset and perform the data cleaning.In the data cleaning process, you have to remove irrelevant data, handle missing values, delete duplicate data, and filter out the outliers.You have to visualise the data using matplotlib, pandas, and the required library"
      ],
      "metadata": {
        "id": "y0i2OtF4FuMy"
      }
    },
    {
      "cell_type": "code",
      "execution_count": 3,
      "metadata": {
        "id": "k3tGoqA-FPZ7"
      },
      "outputs": [],
      "source": [
        "import pandas as pd\n",
        "import numpy as np\n",
        "import seaborn as sns\n",
        "import matplotlib.pyplot as plt\n",
        "import seaborn as sns"
      ]
    },
    {
      "cell_type": "markdown",
      "metadata": {
        "id": "eVXpSeD9FPaB"
      },
      "source": [
        "###### 1.LOAD THE CSV FILE TO PANDAS"
      ]
    },
    {
      "cell_type": "code",
      "execution_count": 4,
      "metadata": {
        "colab": {
          "base_uri": "https://localhost:8080/",
          "height": 1000
        },
        "id": "f6mF4smMFPaD",
        "outputId": "66897588-5dae-4aed-e072-cce035b23884"
      },
      "outputs": [
        {
          "output_type": "execute_result",
          "data": {
            "text/plain": [
              "                                                  title  \\\n",
              "0     2020 Summer Vintage Flamingo Print  Pajamas Se...   \n",
              "1     SSHOUSE Summer Casual Sleeveless Soirée Party ...   \n",
              "2     2020 Nouvelle Arrivée Femmes Printemps et Été ...   \n",
              "3     Hot Summer Cool T-shirt pour les femmes Mode T...   \n",
              "4     Femmes Shorts d'été à lacets taille élastique ...   \n",
              "...                                                 ...   \n",
              "1568  Nouvelle Mode Femmes Bohême Pissenlit Imprimer...   \n",
              "1569  10 couleurs femmes shorts d'été lacent ceintur...   \n",
              "1570  Nouveautés Hommes Siwmwear Beach-Shorts Hommes...   \n",
              "1571  Mode femmes d'été sans manches robes col en V ...   \n",
              "1572  Pantalon de yoga pour femmes à la mode Slim Fi...   \n",
              "\n",
              "                                             title_orig  price  retail_price  \\\n",
              "0     2020 Summer Vintage Flamingo Print  Pajamas Se...  16.00            14   \n",
              "1      Women's Casual Summer Sleeveless Sexy Mini Dress   8.00            22   \n",
              "2     2020 New Arrival Women Spring and Summer Beach...   8.00            43   \n",
              "3     Hot Summer Cool T Shirt for Women Fashion Tops...   8.00             8   \n",
              "4     Women Summer Shorts Lace Up Elastic Waistband ...   2.72             3   \n",
              "...                                                 ...    ...           ...   \n",
              "1568  New Fashion Women Bohemia Dandelion Print Tee ...   6.00             9   \n",
              "1569  10 Color Women Summer Shorts Lace Up Elastic W...   2.00            56   \n",
              "1570  New Men Siwmwear Beach-Shorts Men Summer Quick...   5.00            19   \n",
              "1571  Fashion Women Summer Sleeveless Dresses V Neck...  13.00            11   \n",
              "1572  Fashion Women Yoga Pants Slim Fit Fitness Runn...   7.00             6   \n",
              "\n",
              "     currency_buyer  units_sold  uses_ad_boosts  rating  rating_count  \\\n",
              "0               EUR         100               0    3.76            54   \n",
              "1               EUR       20000               1    3.45          6135   \n",
              "2               EUR         100               0    3.57            14   \n",
              "3               EUR        5000               1    4.03           579   \n",
              "4               EUR         100               1    3.10            20   \n",
              "...             ...         ...             ...     ...           ...   \n",
              "1568            EUR       10000               1    4.08          1367   \n",
              "1569            EUR         100               1    3.07            28   \n",
              "1570            EUR         100               0    3.71            59   \n",
              "1571            EUR         100               0    2.50             2   \n",
              "1572            EUR         100               1    4.07            14   \n",
              "\n",
              "      rating_five_count  ...  merchant_rating_count  merchant_rating  \\\n",
              "0                  26.0  ...                    568         4.128521   \n",
              "1                2269.0  ...                  17752         3.899673   \n",
              "2                   5.0  ...                    295         3.989831   \n",
              "3                 295.0  ...                  23832         4.020435   \n",
              "4                   6.0  ...                  14482         4.001588   \n",
              "...                 ...  ...                    ...              ...   \n",
              "1568              722.0  ...                   5316         4.224605   \n",
              "1569               11.0  ...                   4435         3.696054   \n",
              "1570               24.0  ...                    210         3.961905   \n",
              "1571                0.0  ...                     31         3.774194   \n",
              "1572                8.0  ...                   7023         4.235939   \n",
              "\n",
              "                   merchant_id  merchant_has_profile_picture  \\\n",
              "0     595097d6a26f6e070cb878d1                             0   \n",
              "1     56458aa03a698c35c9050988                             0   \n",
              "2     5d464a1ffdf7bc44ee933c65                             0   \n",
              "3     58cfdefdacb37b556efdff7c                             0   \n",
              "4     5ab3b592c3911a095ad5dadb                             0   \n",
              "...                        ...                           ...   \n",
              "1568  5b507899ab577736508a0782                             0   \n",
              "1569  54d83b6b6b8a771e478558de                             0   \n",
              "1570  5b42da1bf64320209fc8da69                             0   \n",
              "1571  5d56b32c40defd78043d5af9                             0   \n",
              "1572  5a409cf87b584e7951b2e25f                             0   \n",
              "\n",
              "      merchant_profile_picture  \\\n",
              "0                          NaN   \n",
              "1                          NaN   \n",
              "2                          NaN   \n",
              "3                          NaN   \n",
              "4                          NaN   \n",
              "...                        ...   \n",
              "1568                       NaN   \n",
              "1569                       NaN   \n",
              "1570                       NaN   \n",
              "1571                       NaN   \n",
              "1572                       NaN   \n",
              "\n",
              "                                          product_url  \\\n",
              "0     https://www.wish.com/c/5e9ae51d43d6a96e303acdb0   \n",
              "1     https://www.wish.com/c/58940d436a0d3d5da4e95a38   \n",
              "2     https://www.wish.com/c/5ea10e2c617580260d55310a   \n",
              "3     https://www.wish.com/c/5cedf17ad1d44c52c59e4aca   \n",
              "4     https://www.wish.com/c/5ebf5819ebac372b070b0e70   \n",
              "...                                               ...   \n",
              "1568  https://www.wish.com/c/5d5fadc99febd9356cbc52ee   \n",
              "1569  https://www.wish.com/c/5eccd22b4497b86fd48f16b4   \n",
              "1570  https://www.wish.com/c/5e74be96034d613d42b52dfe   \n",
              "1571  https://www.wish.com/c/5eda07ab0e295c2097c36590   \n",
              "1572  https://www.wish.com/c/5e857321f53c3d2d8f25e7ed   \n",
              "\n",
              "                                        product_picture  \\\n",
              "0     https://contestimg.wish.com/api/webimage/5e9ae...   \n",
              "1     https://contestimg.wish.com/api/webimage/58940...   \n",
              "2     https://contestimg.wish.com/api/webimage/5ea10...   \n",
              "3     https://contestimg.wish.com/api/webimage/5cedf...   \n",
              "4     https://contestimg.wish.com/api/webimage/5ebf5...   \n",
              "...                                                 ...   \n",
              "1568  https://contestimg.wish.com/api/webimage/5d5fa...   \n",
              "1569  https://contestimg.wish.com/api/webimage/5eccd...   \n",
              "1570  https://contestimg.wish.com/api/webimage/5e74b...   \n",
              "1571  https://contestimg.wish.com/api/webimage/5eda0...   \n",
              "1572  https://contestimg.wish.com/api/webimage/5e857...   \n",
              "\n",
              "                    product_id   theme crawl_month  \n",
              "0     5e9ae51d43d6a96e303acdb0  summer     2020-08  \n",
              "1     58940d436a0d3d5da4e95a38  summer     2020-08  \n",
              "2     5ea10e2c617580260d55310a  summer     2020-08  \n",
              "3     5cedf17ad1d44c52c59e4aca  summer     2020-08  \n",
              "4     5ebf5819ebac372b070b0e70  summer     2020-08  \n",
              "...                        ...     ...         ...  \n",
              "1568  5d5fadc99febd9356cbc52ee  summer     2020-08  \n",
              "1569  5eccd22b4497b86fd48f16b4  summer     2020-08  \n",
              "1570  5e74be96034d613d42b52dfe  summer     2020-08  \n",
              "1571  5eda07ab0e295c2097c36590  summer     2020-08  \n",
              "1572  5e857321f53c3d2d8f25e7ed  summer     2020-08  \n",
              "\n",
              "[1573 rows x 43 columns]"
            ],
            "text/html": [
              "\n",
              "  <div id=\"df-717dda24-9592-41e4-a03e-c240d12adcdc\">\n",
              "    <div class=\"colab-df-container\">\n",
              "      <div>\n",
              "<style scoped>\n",
              "    .dataframe tbody tr th:only-of-type {\n",
              "        vertical-align: middle;\n",
              "    }\n",
              "\n",
              "    .dataframe tbody tr th {\n",
              "        vertical-align: top;\n",
              "    }\n",
              "\n",
              "    .dataframe thead th {\n",
              "        text-align: right;\n",
              "    }\n",
              "</style>\n",
              "<table border=\"1\" class=\"dataframe\">\n",
              "  <thead>\n",
              "    <tr style=\"text-align: right;\">\n",
              "      <th></th>\n",
              "      <th>title</th>\n",
              "      <th>title_orig</th>\n",
              "      <th>price</th>\n",
              "      <th>retail_price</th>\n",
              "      <th>currency_buyer</th>\n",
              "      <th>units_sold</th>\n",
              "      <th>uses_ad_boosts</th>\n",
              "      <th>rating</th>\n",
              "      <th>rating_count</th>\n",
              "      <th>rating_five_count</th>\n",
              "      <th>...</th>\n",
              "      <th>merchant_rating_count</th>\n",
              "      <th>merchant_rating</th>\n",
              "      <th>merchant_id</th>\n",
              "      <th>merchant_has_profile_picture</th>\n",
              "      <th>merchant_profile_picture</th>\n",
              "      <th>product_url</th>\n",
              "      <th>product_picture</th>\n",
              "      <th>product_id</th>\n",
              "      <th>theme</th>\n",
              "      <th>crawl_month</th>\n",
              "    </tr>\n",
              "  </thead>\n",
              "  <tbody>\n",
              "    <tr>\n",
              "      <th>0</th>\n",
              "      <td>2020 Summer Vintage Flamingo Print  Pajamas Se...</td>\n",
              "      <td>2020 Summer Vintage Flamingo Print  Pajamas Se...</td>\n",
              "      <td>16.00</td>\n",
              "      <td>14</td>\n",
              "      <td>EUR</td>\n",
              "      <td>100</td>\n",
              "      <td>0</td>\n",
              "      <td>3.76</td>\n",
              "      <td>54</td>\n",
              "      <td>26.0</td>\n",
              "      <td>...</td>\n",
              "      <td>568</td>\n",
              "      <td>4.128521</td>\n",
              "      <td>595097d6a26f6e070cb878d1</td>\n",
              "      <td>0</td>\n",
              "      <td>NaN</td>\n",
              "      <td>https://www.wish.com/c/5e9ae51d43d6a96e303acdb0</td>\n",
              "      <td>https://contestimg.wish.com/api/webimage/5e9ae...</td>\n",
              "      <td>5e9ae51d43d6a96e303acdb0</td>\n",
              "      <td>summer</td>\n",
              "      <td>2020-08</td>\n",
              "    </tr>\n",
              "    <tr>\n",
              "      <th>1</th>\n",
              "      <td>SSHOUSE Summer Casual Sleeveless Soirée Party ...</td>\n",
              "      <td>Women's Casual Summer Sleeveless Sexy Mini Dress</td>\n",
              "      <td>8.00</td>\n",
              "      <td>22</td>\n",
              "      <td>EUR</td>\n",
              "      <td>20000</td>\n",
              "      <td>1</td>\n",
              "      <td>3.45</td>\n",
              "      <td>6135</td>\n",
              "      <td>2269.0</td>\n",
              "      <td>...</td>\n",
              "      <td>17752</td>\n",
              "      <td>3.899673</td>\n",
              "      <td>56458aa03a698c35c9050988</td>\n",
              "      <td>0</td>\n",
              "      <td>NaN</td>\n",
              "      <td>https://www.wish.com/c/58940d436a0d3d5da4e95a38</td>\n",
              "      <td>https://contestimg.wish.com/api/webimage/58940...</td>\n",
              "      <td>58940d436a0d3d5da4e95a38</td>\n",
              "      <td>summer</td>\n",
              "      <td>2020-08</td>\n",
              "    </tr>\n",
              "    <tr>\n",
              "      <th>2</th>\n",
              "      <td>2020 Nouvelle Arrivée Femmes Printemps et Été ...</td>\n",
              "      <td>2020 New Arrival Women Spring and Summer Beach...</td>\n",
              "      <td>8.00</td>\n",
              "      <td>43</td>\n",
              "      <td>EUR</td>\n",
              "      <td>100</td>\n",
              "      <td>0</td>\n",
              "      <td>3.57</td>\n",
              "      <td>14</td>\n",
              "      <td>5.0</td>\n",
              "      <td>...</td>\n",
              "      <td>295</td>\n",
              "      <td>3.989831</td>\n",
              "      <td>5d464a1ffdf7bc44ee933c65</td>\n",
              "      <td>0</td>\n",
              "      <td>NaN</td>\n",
              "      <td>https://www.wish.com/c/5ea10e2c617580260d55310a</td>\n",
              "      <td>https://contestimg.wish.com/api/webimage/5ea10...</td>\n",
              "      <td>5ea10e2c617580260d55310a</td>\n",
              "      <td>summer</td>\n",
              "      <td>2020-08</td>\n",
              "    </tr>\n",
              "    <tr>\n",
              "      <th>3</th>\n",
              "      <td>Hot Summer Cool T-shirt pour les femmes Mode T...</td>\n",
              "      <td>Hot Summer Cool T Shirt for Women Fashion Tops...</td>\n",
              "      <td>8.00</td>\n",
              "      <td>8</td>\n",
              "      <td>EUR</td>\n",
              "      <td>5000</td>\n",
              "      <td>1</td>\n",
              "      <td>4.03</td>\n",
              "      <td>579</td>\n",
              "      <td>295.0</td>\n",
              "      <td>...</td>\n",
              "      <td>23832</td>\n",
              "      <td>4.020435</td>\n",
              "      <td>58cfdefdacb37b556efdff7c</td>\n",
              "      <td>0</td>\n",
              "      <td>NaN</td>\n",
              "      <td>https://www.wish.com/c/5cedf17ad1d44c52c59e4aca</td>\n",
              "      <td>https://contestimg.wish.com/api/webimage/5cedf...</td>\n",
              "      <td>5cedf17ad1d44c52c59e4aca</td>\n",
              "      <td>summer</td>\n",
              "      <td>2020-08</td>\n",
              "    </tr>\n",
              "    <tr>\n",
              "      <th>4</th>\n",
              "      <td>Femmes Shorts d'été à lacets taille élastique ...</td>\n",
              "      <td>Women Summer Shorts Lace Up Elastic Waistband ...</td>\n",
              "      <td>2.72</td>\n",
              "      <td>3</td>\n",
              "      <td>EUR</td>\n",
              "      <td>100</td>\n",
              "      <td>1</td>\n",
              "      <td>3.10</td>\n",
              "      <td>20</td>\n",
              "      <td>6.0</td>\n",
              "      <td>...</td>\n",
              "      <td>14482</td>\n",
              "      <td>4.001588</td>\n",
              "      <td>5ab3b592c3911a095ad5dadb</td>\n",
              "      <td>0</td>\n",
              "      <td>NaN</td>\n",
              "      <td>https://www.wish.com/c/5ebf5819ebac372b070b0e70</td>\n",
              "      <td>https://contestimg.wish.com/api/webimage/5ebf5...</td>\n",
              "      <td>5ebf5819ebac372b070b0e70</td>\n",
              "      <td>summer</td>\n",
              "      <td>2020-08</td>\n",
              "    </tr>\n",
              "    <tr>\n",
              "      <th>...</th>\n",
              "      <td>...</td>\n",
              "      <td>...</td>\n",
              "      <td>...</td>\n",
              "      <td>...</td>\n",
              "      <td>...</td>\n",
              "      <td>...</td>\n",
              "      <td>...</td>\n",
              "      <td>...</td>\n",
              "      <td>...</td>\n",
              "      <td>...</td>\n",
              "      <td>...</td>\n",
              "      <td>...</td>\n",
              "      <td>...</td>\n",
              "      <td>...</td>\n",
              "      <td>...</td>\n",
              "      <td>...</td>\n",
              "      <td>...</td>\n",
              "      <td>...</td>\n",
              "      <td>...</td>\n",
              "      <td>...</td>\n",
              "      <td>...</td>\n",
              "    </tr>\n",
              "    <tr>\n",
              "      <th>1568</th>\n",
              "      <td>Nouvelle Mode Femmes Bohême Pissenlit Imprimer...</td>\n",
              "      <td>New Fashion Women Bohemia Dandelion Print Tee ...</td>\n",
              "      <td>6.00</td>\n",
              "      <td>9</td>\n",
              "      <td>EUR</td>\n",
              "      <td>10000</td>\n",
              "      <td>1</td>\n",
              "      <td>4.08</td>\n",
              "      <td>1367</td>\n",
              "      <td>722.0</td>\n",
              "      <td>...</td>\n",
              "      <td>5316</td>\n",
              "      <td>4.224605</td>\n",
              "      <td>5b507899ab577736508a0782</td>\n",
              "      <td>0</td>\n",
              "      <td>NaN</td>\n",
              "      <td>https://www.wish.com/c/5d5fadc99febd9356cbc52ee</td>\n",
              "      <td>https://contestimg.wish.com/api/webimage/5d5fa...</td>\n",
              "      <td>5d5fadc99febd9356cbc52ee</td>\n",
              "      <td>summer</td>\n",
              "      <td>2020-08</td>\n",
              "    </tr>\n",
              "    <tr>\n",
              "      <th>1569</th>\n",
              "      <td>10 couleurs femmes shorts d'été lacent ceintur...</td>\n",
              "      <td>10 Color Women Summer Shorts Lace Up Elastic W...</td>\n",
              "      <td>2.00</td>\n",
              "      <td>56</td>\n",
              "      <td>EUR</td>\n",
              "      <td>100</td>\n",
              "      <td>1</td>\n",
              "      <td>3.07</td>\n",
              "      <td>28</td>\n",
              "      <td>11.0</td>\n",
              "      <td>...</td>\n",
              "      <td>4435</td>\n",
              "      <td>3.696054</td>\n",
              "      <td>54d83b6b6b8a771e478558de</td>\n",
              "      <td>0</td>\n",
              "      <td>NaN</td>\n",
              "      <td>https://www.wish.com/c/5eccd22b4497b86fd48f16b4</td>\n",
              "      <td>https://contestimg.wish.com/api/webimage/5eccd...</td>\n",
              "      <td>5eccd22b4497b86fd48f16b4</td>\n",
              "      <td>summer</td>\n",
              "      <td>2020-08</td>\n",
              "    </tr>\n",
              "    <tr>\n",
              "      <th>1570</th>\n",
              "      <td>Nouveautés Hommes Siwmwear Beach-Shorts Hommes...</td>\n",
              "      <td>New Men Siwmwear Beach-Shorts Men Summer Quick...</td>\n",
              "      <td>5.00</td>\n",
              "      <td>19</td>\n",
              "      <td>EUR</td>\n",
              "      <td>100</td>\n",
              "      <td>0</td>\n",
              "      <td>3.71</td>\n",
              "      <td>59</td>\n",
              "      <td>24.0</td>\n",
              "      <td>...</td>\n",
              "      <td>210</td>\n",
              "      <td>3.961905</td>\n",
              "      <td>5b42da1bf64320209fc8da69</td>\n",
              "      <td>0</td>\n",
              "      <td>NaN</td>\n",
              "      <td>https://www.wish.com/c/5e74be96034d613d42b52dfe</td>\n",
              "      <td>https://contestimg.wish.com/api/webimage/5e74b...</td>\n",
              "      <td>5e74be96034d613d42b52dfe</td>\n",
              "      <td>summer</td>\n",
              "      <td>2020-08</td>\n",
              "    </tr>\n",
              "    <tr>\n",
              "      <th>1571</th>\n",
              "      <td>Mode femmes d'été sans manches robes col en V ...</td>\n",
              "      <td>Fashion Women Summer Sleeveless Dresses V Neck...</td>\n",
              "      <td>13.00</td>\n",
              "      <td>11</td>\n",
              "      <td>EUR</td>\n",
              "      <td>100</td>\n",
              "      <td>0</td>\n",
              "      <td>2.50</td>\n",
              "      <td>2</td>\n",
              "      <td>0.0</td>\n",
              "      <td>...</td>\n",
              "      <td>31</td>\n",
              "      <td>3.774194</td>\n",
              "      <td>5d56b32c40defd78043d5af9</td>\n",
              "      <td>0</td>\n",
              "      <td>NaN</td>\n",
              "      <td>https://www.wish.com/c/5eda07ab0e295c2097c36590</td>\n",
              "      <td>https://contestimg.wish.com/api/webimage/5eda0...</td>\n",
              "      <td>5eda07ab0e295c2097c36590</td>\n",
              "      <td>summer</td>\n",
              "      <td>2020-08</td>\n",
              "    </tr>\n",
              "    <tr>\n",
              "      <th>1572</th>\n",
              "      <td>Pantalon de yoga pour femmes à la mode Slim Fi...</td>\n",
              "      <td>Fashion Women Yoga Pants Slim Fit Fitness Runn...</td>\n",
              "      <td>7.00</td>\n",
              "      <td>6</td>\n",
              "      <td>EUR</td>\n",
              "      <td>100</td>\n",
              "      <td>1</td>\n",
              "      <td>4.07</td>\n",
              "      <td>14</td>\n",
              "      <td>8.0</td>\n",
              "      <td>...</td>\n",
              "      <td>7023</td>\n",
              "      <td>4.235939</td>\n",
              "      <td>5a409cf87b584e7951b2e25f</td>\n",
              "      <td>0</td>\n",
              "      <td>NaN</td>\n",
              "      <td>https://www.wish.com/c/5e857321f53c3d2d8f25e7ed</td>\n",
              "      <td>https://contestimg.wish.com/api/webimage/5e857...</td>\n",
              "      <td>5e857321f53c3d2d8f25e7ed</td>\n",
              "      <td>summer</td>\n",
              "      <td>2020-08</td>\n",
              "    </tr>\n",
              "  </tbody>\n",
              "</table>\n",
              "<p>1573 rows × 43 columns</p>\n",
              "</div>\n",
              "      <button class=\"colab-df-convert\" onclick=\"convertToInteractive('df-717dda24-9592-41e4-a03e-c240d12adcdc')\"\n",
              "              title=\"Convert this dataframe to an interactive table.\"\n",
              "              style=\"display:none;\">\n",
              "        \n",
              "  <svg xmlns=\"http://www.w3.org/2000/svg\" height=\"24px\"viewBox=\"0 0 24 24\"\n",
              "       width=\"24px\">\n",
              "    <path d=\"M0 0h24v24H0V0z\" fill=\"none\"/>\n",
              "    <path d=\"M18.56 5.44l.94 2.06.94-2.06 2.06-.94-2.06-.94-.94-2.06-.94 2.06-2.06.94zm-11 1L8.5 8.5l.94-2.06 2.06-.94-2.06-.94L8.5 2.5l-.94 2.06-2.06.94zm10 10l.94 2.06.94-2.06 2.06-.94-2.06-.94-.94-2.06-.94 2.06-2.06.94z\"/><path d=\"M17.41 7.96l-1.37-1.37c-.4-.4-.92-.59-1.43-.59-.52 0-1.04.2-1.43.59L10.3 9.45l-7.72 7.72c-.78.78-.78 2.05 0 2.83L4 21.41c.39.39.9.59 1.41.59.51 0 1.02-.2 1.41-.59l7.78-7.78 2.81-2.81c.8-.78.8-2.07 0-2.86zM5.41 20L4 18.59l7.72-7.72 1.47 1.35L5.41 20z\"/>\n",
              "  </svg>\n",
              "      </button>\n",
              "      \n",
              "  <style>\n",
              "    .colab-df-container {\n",
              "      display:flex;\n",
              "      flex-wrap:wrap;\n",
              "      gap: 12px;\n",
              "    }\n",
              "\n",
              "    .colab-df-convert {\n",
              "      background-color: #E8F0FE;\n",
              "      border: none;\n",
              "      border-radius: 50%;\n",
              "      cursor: pointer;\n",
              "      display: none;\n",
              "      fill: #1967D2;\n",
              "      height: 32px;\n",
              "      padding: 0 0 0 0;\n",
              "      width: 32px;\n",
              "    }\n",
              "\n",
              "    .colab-df-convert:hover {\n",
              "      background-color: #E2EBFA;\n",
              "      box-shadow: 0px 1px 2px rgba(60, 64, 67, 0.3), 0px 1px 3px 1px rgba(60, 64, 67, 0.15);\n",
              "      fill: #174EA6;\n",
              "    }\n",
              "\n",
              "    [theme=dark] .colab-df-convert {\n",
              "      background-color: #3B4455;\n",
              "      fill: #D2E3FC;\n",
              "    }\n",
              "\n",
              "    [theme=dark] .colab-df-convert:hover {\n",
              "      background-color: #434B5C;\n",
              "      box-shadow: 0px 1px 3px 1px rgba(0, 0, 0, 0.15);\n",
              "      filter: drop-shadow(0px 1px 2px rgba(0, 0, 0, 0.3));\n",
              "      fill: #FFFFFF;\n",
              "    }\n",
              "  </style>\n",
              "\n",
              "      <script>\n",
              "        const buttonEl =\n",
              "          document.querySelector('#df-717dda24-9592-41e4-a03e-c240d12adcdc button.colab-df-convert');\n",
              "        buttonEl.style.display =\n",
              "          google.colab.kernel.accessAllowed ? 'block' : 'none';\n",
              "\n",
              "        async function convertToInteractive(key) {\n",
              "          const element = document.querySelector('#df-717dda24-9592-41e4-a03e-c240d12adcdc');\n",
              "          const dataTable =\n",
              "            await google.colab.kernel.invokeFunction('convertToInteractive',\n",
              "                                                     [key], {});\n",
              "          if (!dataTable) return;\n",
              "\n",
              "          const docLinkHtml = 'Like what you see? Visit the ' +\n",
              "            '<a target=\"_blank\" href=https://colab.research.google.com/notebooks/data_table.ipynb>data table notebook</a>'\n",
              "            + ' to learn more about interactive tables.';\n",
              "          element.innerHTML = '';\n",
              "          dataTable['output_type'] = 'display_data';\n",
              "          await google.colab.output.renderOutput(dataTable, element);\n",
              "          const docLink = document.createElement('div');\n",
              "          docLink.innerHTML = docLinkHtml;\n",
              "          element.appendChild(docLink);\n",
              "        }\n",
              "      </script>\n",
              "    </div>\n",
              "  </div>\n",
              "  "
            ]
          },
          "metadata": {},
          "execution_count": 4
        }
      ],
      "source": [
        "dataFrame = pd.read_csv('/content/summer-products_2020-08.csv')\n",
        "dataFrame"
      ]
    },
    {
      "cell_type": "markdown",
      "metadata": {
        "id": "cPypFhznFPaF"
      },
      "source": [
        "###### 2.CHECK WHICH COLUMNS ARE PRESENT"
      ]
    },
    {
      "cell_type": "code",
      "execution_count": 5,
      "metadata": {
        "colab": {
          "base_uri": "https://localhost:8080/"
        },
        "id": "wBdxl54MFPaG",
        "outputId": "ae493028-cc0f-4593-b0f4-bb35c1561c42"
      },
      "outputs": [
        {
          "output_type": "stream",
          "name": "stdout",
          "text": [
            "title\n",
            "title_orig\n",
            "price\n",
            "retail_price\n",
            "currency_buyer\n",
            "units_sold\n",
            "uses_ad_boosts\n",
            "rating\n",
            "rating_count\n",
            "rating_five_count\n",
            "rating_four_count\n",
            "rating_three_count\n",
            "rating_two_count\n",
            "rating_one_count\n",
            "badges_count\n",
            "badge_local_product\n",
            "badge_product_quality\n",
            "badge_fast_shipping\n",
            "tags\n",
            "product_color\n",
            "product_variation_size_id\n",
            "product_variation_inventory\n",
            "shipping_option_name\n",
            "shipping_option_price\n",
            "shipping_is_express\n",
            "countries_shipped_to\n",
            "inventory_total\n",
            "has_urgency_banner\n",
            "urgency_text\n",
            "origin_country\n",
            "merchant_title\n",
            "merchant_name\n",
            "merchant_info_subtitle\n",
            "merchant_rating_count\n",
            "merchant_rating\n",
            "merchant_id\n",
            "merchant_has_profile_picture\n",
            "merchant_profile_picture\n",
            "product_url\n",
            "product_picture\n",
            "product_id\n",
            "theme\n",
            "crawl_month\n",
            "\n",
            "TOTAL NUMBERS OF COLUMNS:  43\n"
          ]
        }
      ],
      "source": [
        "numberColumns = 0\n",
        "for columns in dataFrame.columns:\n",
        "    print(columns)\n",
        "    numberColumns += 1\n",
        "print('\\nTOTAL NUMBERS OF COLUMNS: ',numberColumns)"
      ]
    },
    {
      "cell_type": "markdown",
      "metadata": {
        "id": "qiiRIng1FPaH"
      },
      "source": [
        "###### 3. CHECK AND DROP DUPLICATE VALUES"
      ]
    },
    {
      "cell_type": "code",
      "execution_count": 6,
      "metadata": {
        "colab": {
          "base_uri": "https://localhost:8080/"
        },
        "id": "2fXt8wYuFPaI",
        "outputId": "24c715a0-38ad-4d77-b01f-62044f18c510"
      },
      "outputs": [
        {
          "output_type": "stream",
          "name": "stdout",
          "text": [
            "\bTHERE ARE THE DUPLICATED VALUE IN DATAFRAME\n",
            "\n",
            " <bound method DataFrame.drop_duplicates of                                                   title  \\\n",
            "0     2020 Summer Vintage Flamingo Print  Pajamas Se...   \n",
            "1     SSHOUSE Summer Casual Sleeveless Soirée Party ...   \n",
            "2     2020 Nouvelle Arrivée Femmes Printemps et Été ...   \n",
            "3     Hot Summer Cool T-shirt pour les femmes Mode T...   \n",
            "4     Femmes Shorts d'été à lacets taille élastique ...   \n",
            "...                                                 ...   \n",
            "1568  Nouvelle Mode Femmes Bohême Pissenlit Imprimer...   \n",
            "1569  10 couleurs femmes shorts d'été lacent ceintur...   \n",
            "1570  Nouveautés Hommes Siwmwear Beach-Shorts Hommes...   \n",
            "1571  Mode femmes d'été sans manches robes col en V ...   \n",
            "1572  Pantalon de yoga pour femmes à la mode Slim Fi...   \n",
            "\n",
            "                                             title_orig  price  retail_price  \\\n",
            "0     2020 Summer Vintage Flamingo Print  Pajamas Se...  16.00            14   \n",
            "1      Women's Casual Summer Sleeveless Sexy Mini Dress   8.00            22   \n",
            "2     2020 New Arrival Women Spring and Summer Beach...   8.00            43   \n",
            "3     Hot Summer Cool T Shirt for Women Fashion Tops...   8.00             8   \n",
            "4     Women Summer Shorts Lace Up Elastic Waistband ...   2.72             3   \n",
            "...                                                 ...    ...           ...   \n",
            "1568  New Fashion Women Bohemia Dandelion Print Tee ...   6.00             9   \n",
            "1569  10 Color Women Summer Shorts Lace Up Elastic W...   2.00            56   \n",
            "1570  New Men Siwmwear Beach-Shorts Men Summer Quick...   5.00            19   \n",
            "1571  Fashion Women Summer Sleeveless Dresses V Neck...  13.00            11   \n",
            "1572  Fashion Women Yoga Pants Slim Fit Fitness Runn...   7.00             6   \n",
            "\n",
            "     currency_buyer  units_sold  uses_ad_boosts  rating  rating_count  \\\n",
            "0               EUR         100               0    3.76            54   \n",
            "1               EUR       20000               1    3.45          6135   \n",
            "2               EUR         100               0    3.57            14   \n",
            "3               EUR        5000               1    4.03           579   \n",
            "4               EUR         100               1    3.10            20   \n",
            "...             ...         ...             ...     ...           ...   \n",
            "1568            EUR       10000               1    4.08          1367   \n",
            "1569            EUR         100               1    3.07            28   \n",
            "1570            EUR         100               0    3.71            59   \n",
            "1571            EUR         100               0    2.50             2   \n",
            "1572            EUR         100               1    4.07            14   \n",
            "\n",
            "      rating_five_count  ...  merchant_rating_count  merchant_rating  \\\n",
            "0                  26.0  ...                    568         4.128521   \n",
            "1                2269.0  ...                  17752         3.899673   \n",
            "2                   5.0  ...                    295         3.989831   \n",
            "3                 295.0  ...                  23832         4.020435   \n",
            "4                   6.0  ...                  14482         4.001588   \n",
            "...                 ...  ...                    ...              ...   \n",
            "1568              722.0  ...                   5316         4.224605   \n",
            "1569               11.0  ...                   4435         3.696054   \n",
            "1570               24.0  ...                    210         3.961905   \n",
            "1571                0.0  ...                     31         3.774194   \n",
            "1572                8.0  ...                   7023         4.235939   \n",
            "\n",
            "                   merchant_id  merchant_has_profile_picture  \\\n",
            "0     595097d6a26f6e070cb878d1                             0   \n",
            "1     56458aa03a698c35c9050988                             0   \n",
            "2     5d464a1ffdf7bc44ee933c65                             0   \n",
            "3     58cfdefdacb37b556efdff7c                             0   \n",
            "4     5ab3b592c3911a095ad5dadb                             0   \n",
            "...                        ...                           ...   \n",
            "1568  5b507899ab577736508a0782                             0   \n",
            "1569  54d83b6b6b8a771e478558de                             0   \n",
            "1570  5b42da1bf64320209fc8da69                             0   \n",
            "1571  5d56b32c40defd78043d5af9                             0   \n",
            "1572  5a409cf87b584e7951b2e25f                             0   \n",
            "\n",
            "      merchant_profile_picture  \\\n",
            "0                          NaN   \n",
            "1                          NaN   \n",
            "2                          NaN   \n",
            "3                          NaN   \n",
            "4                          NaN   \n",
            "...                        ...   \n",
            "1568                       NaN   \n",
            "1569                       NaN   \n",
            "1570                       NaN   \n",
            "1571                       NaN   \n",
            "1572                       NaN   \n",
            "\n",
            "                                          product_url  \\\n",
            "0     https://www.wish.com/c/5e9ae51d43d6a96e303acdb0   \n",
            "1     https://www.wish.com/c/58940d436a0d3d5da4e95a38   \n",
            "2     https://www.wish.com/c/5ea10e2c617580260d55310a   \n",
            "3     https://www.wish.com/c/5cedf17ad1d44c52c59e4aca   \n",
            "4     https://www.wish.com/c/5ebf5819ebac372b070b0e70   \n",
            "...                                               ...   \n",
            "1568  https://www.wish.com/c/5d5fadc99febd9356cbc52ee   \n",
            "1569  https://www.wish.com/c/5eccd22b4497b86fd48f16b4   \n",
            "1570  https://www.wish.com/c/5e74be96034d613d42b52dfe   \n",
            "1571  https://www.wish.com/c/5eda07ab0e295c2097c36590   \n",
            "1572  https://www.wish.com/c/5e857321f53c3d2d8f25e7ed   \n",
            "\n",
            "                                        product_picture  \\\n",
            "0     https://contestimg.wish.com/api/webimage/5e9ae...   \n",
            "1     https://contestimg.wish.com/api/webimage/58940...   \n",
            "2     https://contestimg.wish.com/api/webimage/5ea10...   \n",
            "3     https://contestimg.wish.com/api/webimage/5cedf...   \n",
            "4     https://contestimg.wish.com/api/webimage/5ebf5...   \n",
            "...                                                 ...   \n",
            "1568  https://contestimg.wish.com/api/webimage/5d5fa...   \n",
            "1569  https://contestimg.wish.com/api/webimage/5eccd...   \n",
            "1570  https://contestimg.wish.com/api/webimage/5e74b...   \n",
            "1571  https://contestimg.wish.com/api/webimage/5eda0...   \n",
            "1572  https://contestimg.wish.com/api/webimage/5e857...   \n",
            "\n",
            "                    product_id   theme crawl_month  \n",
            "0     5e9ae51d43d6a96e303acdb0  summer     2020-08  \n",
            "1     58940d436a0d3d5da4e95a38  summer     2020-08  \n",
            "2     5ea10e2c617580260d55310a  summer     2020-08  \n",
            "3     5cedf17ad1d44c52c59e4aca  summer     2020-08  \n",
            "4     5ebf5819ebac372b070b0e70  summer     2020-08  \n",
            "...                        ...     ...         ...  \n",
            "1568  5d5fadc99febd9356cbc52ee  summer     2020-08  \n",
            "1569  5eccd22b4497b86fd48f16b4  summer     2020-08  \n",
            "1570  5e74be96034d613d42b52dfe  summer     2020-08  \n",
            "1571  5eda07ab0e295c2097c36590  summer     2020-08  \n",
            "1572  5e857321f53c3d2d8f25e7ed  summer     2020-08  \n",
            "\n",
            "[1573 rows x 43 columns]>\n"
          ]
        }
      ],
      "source": [
        "duplicatedDropped = dataFrame.drop_duplicates\n",
        "print (\"\\bTHERE ARE THE DUPLICATED VALUE IN DATAFRAME\\n\\n\",duplicatedDropped)"
      ]
    },
    {
      "cell_type": "markdown",
      "metadata": {
        "id": "8dKUFuLdFPaK"
      },
      "source": [
        "###### 4.CHECK THE NULL VALUES"
      ]
    },
    {
      "cell_type": "code",
      "execution_count": 7,
      "metadata": {
        "colab": {
          "base_uri": "https://localhost:8080/",
          "height": 522
        },
        "id": "TXXtcbEsFPaL",
        "outputId": "8f08a409-8213-4fd7-a9d8-9fb73885d027"
      },
      "outputs": [
        {
          "output_type": "stream",
          "name": "stdout",
          "text": [
            "HERE WE CAN CLEARLY SEE THAT THERE IS MANY NULL VALUE\n",
            "TRUE INDICATES THE NULL VALUE \n"
          ]
        },
        {
          "output_type": "execute_result",
          "data": {
            "text/plain": [
              "      title  title_orig  price  retail_price  currency_buyer  units_sold  \\\n",
              "0     False       False  False         False           False       False   \n",
              "1     False       False  False         False           False       False   \n",
              "2     False       False  False         False           False       False   \n",
              "3     False       False  False         False           False       False   \n",
              "4     False       False  False         False           False       False   \n",
              "...     ...         ...    ...           ...             ...         ...   \n",
              "1568  False       False  False         False           False       False   \n",
              "1569  False       False  False         False           False       False   \n",
              "1570  False       False  False         False           False       False   \n",
              "1571  False       False  False         False           False       False   \n",
              "1572  False       False  False         False           False       False   \n",
              "\n",
              "      uses_ad_boosts  rating  rating_count  rating_five_count  ...  \\\n",
              "0              False   False         False              False  ...   \n",
              "1              False   False         False              False  ...   \n",
              "2              False   False         False              False  ...   \n",
              "3              False   False         False              False  ...   \n",
              "4              False   False         False              False  ...   \n",
              "...              ...     ...           ...                ...  ...   \n",
              "1568           False   False         False              False  ...   \n",
              "1569           False   False         False              False  ...   \n",
              "1570           False   False         False              False  ...   \n",
              "1571           False   False         False              False  ...   \n",
              "1572           False   False         False              False  ...   \n",
              "\n",
              "      merchant_rating_count  merchant_rating  merchant_id  \\\n",
              "0                     False            False        False   \n",
              "1                     False            False        False   \n",
              "2                     False            False        False   \n",
              "3                     False            False        False   \n",
              "4                     False            False        False   \n",
              "...                     ...              ...          ...   \n",
              "1568                  False            False        False   \n",
              "1569                  False            False        False   \n",
              "1570                  False            False        False   \n",
              "1571                  False            False        False   \n",
              "1572                  False            False        False   \n",
              "\n",
              "      merchant_has_profile_picture  merchant_profile_picture  product_url  \\\n",
              "0                            False                      True        False   \n",
              "1                            False                      True        False   \n",
              "2                            False                      True        False   \n",
              "3                            False                      True        False   \n",
              "4                            False                      True        False   \n",
              "...                            ...                       ...          ...   \n",
              "1568                         False                      True        False   \n",
              "1569                         False                      True        False   \n",
              "1570                         False                      True        False   \n",
              "1571                         False                      True        False   \n",
              "1572                         False                      True        False   \n",
              "\n",
              "      product_picture  product_id  theme  crawl_month  \n",
              "0               False       False  False        False  \n",
              "1               False       False  False        False  \n",
              "2               False       False  False        False  \n",
              "3               False       False  False        False  \n",
              "4               False       False  False        False  \n",
              "...               ...         ...    ...          ...  \n",
              "1568            False       False  False        False  \n",
              "1569            False       False  False        False  \n",
              "1570            False       False  False        False  \n",
              "1571            False       False  False        False  \n",
              "1572            False       False  False        False  \n",
              "\n",
              "[1573 rows x 43 columns]"
            ],
            "text/html": [
              "\n",
              "  <div id=\"df-36c4c8f2-e88c-4b83-9e40-5016e89ea85a\">\n",
              "    <div class=\"colab-df-container\">\n",
              "      <div>\n",
              "<style scoped>\n",
              "    .dataframe tbody tr th:only-of-type {\n",
              "        vertical-align: middle;\n",
              "    }\n",
              "\n",
              "    .dataframe tbody tr th {\n",
              "        vertical-align: top;\n",
              "    }\n",
              "\n",
              "    .dataframe thead th {\n",
              "        text-align: right;\n",
              "    }\n",
              "</style>\n",
              "<table border=\"1\" class=\"dataframe\">\n",
              "  <thead>\n",
              "    <tr style=\"text-align: right;\">\n",
              "      <th></th>\n",
              "      <th>title</th>\n",
              "      <th>title_orig</th>\n",
              "      <th>price</th>\n",
              "      <th>retail_price</th>\n",
              "      <th>currency_buyer</th>\n",
              "      <th>units_sold</th>\n",
              "      <th>uses_ad_boosts</th>\n",
              "      <th>rating</th>\n",
              "      <th>rating_count</th>\n",
              "      <th>rating_five_count</th>\n",
              "      <th>...</th>\n",
              "      <th>merchant_rating_count</th>\n",
              "      <th>merchant_rating</th>\n",
              "      <th>merchant_id</th>\n",
              "      <th>merchant_has_profile_picture</th>\n",
              "      <th>merchant_profile_picture</th>\n",
              "      <th>product_url</th>\n",
              "      <th>product_picture</th>\n",
              "      <th>product_id</th>\n",
              "      <th>theme</th>\n",
              "      <th>crawl_month</th>\n",
              "    </tr>\n",
              "  </thead>\n",
              "  <tbody>\n",
              "    <tr>\n",
              "      <th>0</th>\n",
              "      <td>False</td>\n",
              "      <td>False</td>\n",
              "      <td>False</td>\n",
              "      <td>False</td>\n",
              "      <td>False</td>\n",
              "      <td>False</td>\n",
              "      <td>False</td>\n",
              "      <td>False</td>\n",
              "      <td>False</td>\n",
              "      <td>False</td>\n",
              "      <td>...</td>\n",
              "      <td>False</td>\n",
              "      <td>False</td>\n",
              "      <td>False</td>\n",
              "      <td>False</td>\n",
              "      <td>True</td>\n",
              "      <td>False</td>\n",
              "      <td>False</td>\n",
              "      <td>False</td>\n",
              "      <td>False</td>\n",
              "      <td>False</td>\n",
              "    </tr>\n",
              "    <tr>\n",
              "      <th>1</th>\n",
              "      <td>False</td>\n",
              "      <td>False</td>\n",
              "      <td>False</td>\n",
              "      <td>False</td>\n",
              "      <td>False</td>\n",
              "      <td>False</td>\n",
              "      <td>False</td>\n",
              "      <td>False</td>\n",
              "      <td>False</td>\n",
              "      <td>False</td>\n",
              "      <td>...</td>\n",
              "      <td>False</td>\n",
              "      <td>False</td>\n",
              "      <td>False</td>\n",
              "      <td>False</td>\n",
              "      <td>True</td>\n",
              "      <td>False</td>\n",
              "      <td>False</td>\n",
              "      <td>False</td>\n",
              "      <td>False</td>\n",
              "      <td>False</td>\n",
              "    </tr>\n",
              "    <tr>\n",
              "      <th>2</th>\n",
              "      <td>False</td>\n",
              "      <td>False</td>\n",
              "      <td>False</td>\n",
              "      <td>False</td>\n",
              "      <td>False</td>\n",
              "      <td>False</td>\n",
              "      <td>False</td>\n",
              "      <td>False</td>\n",
              "      <td>False</td>\n",
              "      <td>False</td>\n",
              "      <td>...</td>\n",
              "      <td>False</td>\n",
              "      <td>False</td>\n",
              "      <td>False</td>\n",
              "      <td>False</td>\n",
              "      <td>True</td>\n",
              "      <td>False</td>\n",
              "      <td>False</td>\n",
              "      <td>False</td>\n",
              "      <td>False</td>\n",
              "      <td>False</td>\n",
              "    </tr>\n",
              "    <tr>\n",
              "      <th>3</th>\n",
              "      <td>False</td>\n",
              "      <td>False</td>\n",
              "      <td>False</td>\n",
              "      <td>False</td>\n",
              "      <td>False</td>\n",
              "      <td>False</td>\n",
              "      <td>False</td>\n",
              "      <td>False</td>\n",
              "      <td>False</td>\n",
              "      <td>False</td>\n",
              "      <td>...</td>\n",
              "      <td>False</td>\n",
              "      <td>False</td>\n",
              "      <td>False</td>\n",
              "      <td>False</td>\n",
              "      <td>True</td>\n",
              "      <td>False</td>\n",
              "      <td>False</td>\n",
              "      <td>False</td>\n",
              "      <td>False</td>\n",
              "      <td>False</td>\n",
              "    </tr>\n",
              "    <tr>\n",
              "      <th>4</th>\n",
              "      <td>False</td>\n",
              "      <td>False</td>\n",
              "      <td>False</td>\n",
              "      <td>False</td>\n",
              "      <td>False</td>\n",
              "      <td>False</td>\n",
              "      <td>False</td>\n",
              "      <td>False</td>\n",
              "      <td>False</td>\n",
              "      <td>False</td>\n",
              "      <td>...</td>\n",
              "      <td>False</td>\n",
              "      <td>False</td>\n",
              "      <td>False</td>\n",
              "      <td>False</td>\n",
              "      <td>True</td>\n",
              "      <td>False</td>\n",
              "      <td>False</td>\n",
              "      <td>False</td>\n",
              "      <td>False</td>\n",
              "      <td>False</td>\n",
              "    </tr>\n",
              "    <tr>\n",
              "      <th>...</th>\n",
              "      <td>...</td>\n",
              "      <td>...</td>\n",
              "      <td>...</td>\n",
              "      <td>...</td>\n",
              "      <td>...</td>\n",
              "      <td>...</td>\n",
              "      <td>...</td>\n",
              "      <td>...</td>\n",
              "      <td>...</td>\n",
              "      <td>...</td>\n",
              "      <td>...</td>\n",
              "      <td>...</td>\n",
              "      <td>...</td>\n",
              "      <td>...</td>\n",
              "      <td>...</td>\n",
              "      <td>...</td>\n",
              "      <td>...</td>\n",
              "      <td>...</td>\n",
              "      <td>...</td>\n",
              "      <td>...</td>\n",
              "      <td>...</td>\n",
              "    </tr>\n",
              "    <tr>\n",
              "      <th>1568</th>\n",
              "      <td>False</td>\n",
              "      <td>False</td>\n",
              "      <td>False</td>\n",
              "      <td>False</td>\n",
              "      <td>False</td>\n",
              "      <td>False</td>\n",
              "      <td>False</td>\n",
              "      <td>False</td>\n",
              "      <td>False</td>\n",
              "      <td>False</td>\n",
              "      <td>...</td>\n",
              "      <td>False</td>\n",
              "      <td>False</td>\n",
              "      <td>False</td>\n",
              "      <td>False</td>\n",
              "      <td>True</td>\n",
              "      <td>False</td>\n",
              "      <td>False</td>\n",
              "      <td>False</td>\n",
              "      <td>False</td>\n",
              "      <td>False</td>\n",
              "    </tr>\n",
              "    <tr>\n",
              "      <th>1569</th>\n",
              "      <td>False</td>\n",
              "      <td>False</td>\n",
              "      <td>False</td>\n",
              "      <td>False</td>\n",
              "      <td>False</td>\n",
              "      <td>False</td>\n",
              "      <td>False</td>\n",
              "      <td>False</td>\n",
              "      <td>False</td>\n",
              "      <td>False</td>\n",
              "      <td>...</td>\n",
              "      <td>False</td>\n",
              "      <td>False</td>\n",
              "      <td>False</td>\n",
              "      <td>False</td>\n",
              "      <td>True</td>\n",
              "      <td>False</td>\n",
              "      <td>False</td>\n",
              "      <td>False</td>\n",
              "      <td>False</td>\n",
              "      <td>False</td>\n",
              "    </tr>\n",
              "    <tr>\n",
              "      <th>1570</th>\n",
              "      <td>False</td>\n",
              "      <td>False</td>\n",
              "      <td>False</td>\n",
              "      <td>False</td>\n",
              "      <td>False</td>\n",
              "      <td>False</td>\n",
              "      <td>False</td>\n",
              "      <td>False</td>\n",
              "      <td>False</td>\n",
              "      <td>False</td>\n",
              "      <td>...</td>\n",
              "      <td>False</td>\n",
              "      <td>False</td>\n",
              "      <td>False</td>\n",
              "      <td>False</td>\n",
              "      <td>True</td>\n",
              "      <td>False</td>\n",
              "      <td>False</td>\n",
              "      <td>False</td>\n",
              "      <td>False</td>\n",
              "      <td>False</td>\n",
              "    </tr>\n",
              "    <tr>\n",
              "      <th>1571</th>\n",
              "      <td>False</td>\n",
              "      <td>False</td>\n",
              "      <td>False</td>\n",
              "      <td>False</td>\n",
              "      <td>False</td>\n",
              "      <td>False</td>\n",
              "      <td>False</td>\n",
              "      <td>False</td>\n",
              "      <td>False</td>\n",
              "      <td>False</td>\n",
              "      <td>...</td>\n",
              "      <td>False</td>\n",
              "      <td>False</td>\n",
              "      <td>False</td>\n",
              "      <td>False</td>\n",
              "      <td>True</td>\n",
              "      <td>False</td>\n",
              "      <td>False</td>\n",
              "      <td>False</td>\n",
              "      <td>False</td>\n",
              "      <td>False</td>\n",
              "    </tr>\n",
              "    <tr>\n",
              "      <th>1572</th>\n",
              "      <td>False</td>\n",
              "      <td>False</td>\n",
              "      <td>False</td>\n",
              "      <td>False</td>\n",
              "      <td>False</td>\n",
              "      <td>False</td>\n",
              "      <td>False</td>\n",
              "      <td>False</td>\n",
              "      <td>False</td>\n",
              "      <td>False</td>\n",
              "      <td>...</td>\n",
              "      <td>False</td>\n",
              "      <td>False</td>\n",
              "      <td>False</td>\n",
              "      <td>False</td>\n",
              "      <td>True</td>\n",
              "      <td>False</td>\n",
              "      <td>False</td>\n",
              "      <td>False</td>\n",
              "      <td>False</td>\n",
              "      <td>False</td>\n",
              "    </tr>\n",
              "  </tbody>\n",
              "</table>\n",
              "<p>1573 rows × 43 columns</p>\n",
              "</div>\n",
              "      <button class=\"colab-df-convert\" onclick=\"convertToInteractive('df-36c4c8f2-e88c-4b83-9e40-5016e89ea85a')\"\n",
              "              title=\"Convert this dataframe to an interactive table.\"\n",
              "              style=\"display:none;\">\n",
              "        \n",
              "  <svg xmlns=\"http://www.w3.org/2000/svg\" height=\"24px\"viewBox=\"0 0 24 24\"\n",
              "       width=\"24px\">\n",
              "    <path d=\"M0 0h24v24H0V0z\" fill=\"none\"/>\n",
              "    <path d=\"M18.56 5.44l.94 2.06.94-2.06 2.06-.94-2.06-.94-.94-2.06-.94 2.06-2.06.94zm-11 1L8.5 8.5l.94-2.06 2.06-.94-2.06-.94L8.5 2.5l-.94 2.06-2.06.94zm10 10l.94 2.06.94-2.06 2.06-.94-2.06-.94-.94-2.06-.94 2.06-2.06.94z\"/><path d=\"M17.41 7.96l-1.37-1.37c-.4-.4-.92-.59-1.43-.59-.52 0-1.04.2-1.43.59L10.3 9.45l-7.72 7.72c-.78.78-.78 2.05 0 2.83L4 21.41c.39.39.9.59 1.41.59.51 0 1.02-.2 1.41-.59l7.78-7.78 2.81-2.81c.8-.78.8-2.07 0-2.86zM5.41 20L4 18.59l7.72-7.72 1.47 1.35L5.41 20z\"/>\n",
              "  </svg>\n",
              "      </button>\n",
              "      \n",
              "  <style>\n",
              "    .colab-df-container {\n",
              "      display:flex;\n",
              "      flex-wrap:wrap;\n",
              "      gap: 12px;\n",
              "    }\n",
              "\n",
              "    .colab-df-convert {\n",
              "      background-color: #E8F0FE;\n",
              "      border: none;\n",
              "      border-radius: 50%;\n",
              "      cursor: pointer;\n",
              "      display: none;\n",
              "      fill: #1967D2;\n",
              "      height: 32px;\n",
              "      padding: 0 0 0 0;\n",
              "      width: 32px;\n",
              "    }\n",
              "\n",
              "    .colab-df-convert:hover {\n",
              "      background-color: #E2EBFA;\n",
              "      box-shadow: 0px 1px 2px rgba(60, 64, 67, 0.3), 0px 1px 3px 1px rgba(60, 64, 67, 0.15);\n",
              "      fill: #174EA6;\n",
              "    }\n",
              "\n",
              "    [theme=dark] .colab-df-convert {\n",
              "      background-color: #3B4455;\n",
              "      fill: #D2E3FC;\n",
              "    }\n",
              "\n",
              "    [theme=dark] .colab-df-convert:hover {\n",
              "      background-color: #434B5C;\n",
              "      box-shadow: 0px 1px 3px 1px rgba(0, 0, 0, 0.15);\n",
              "      filter: drop-shadow(0px 1px 2px rgba(0, 0, 0, 0.3));\n",
              "      fill: #FFFFFF;\n",
              "    }\n",
              "  </style>\n",
              "\n",
              "      <script>\n",
              "        const buttonEl =\n",
              "          document.querySelector('#df-36c4c8f2-e88c-4b83-9e40-5016e89ea85a button.colab-df-convert');\n",
              "        buttonEl.style.display =\n",
              "          google.colab.kernel.accessAllowed ? 'block' : 'none';\n",
              "\n",
              "        async function convertToInteractive(key) {\n",
              "          const element = document.querySelector('#df-36c4c8f2-e88c-4b83-9e40-5016e89ea85a');\n",
              "          const dataTable =\n",
              "            await google.colab.kernel.invokeFunction('convertToInteractive',\n",
              "                                                     [key], {});\n",
              "          if (!dataTable) return;\n",
              "\n",
              "          const docLinkHtml = 'Like what you see? Visit the ' +\n",
              "            '<a target=\"_blank\" href=https://colab.research.google.com/notebooks/data_table.ipynb>data table notebook</a>'\n",
              "            + ' to learn more about interactive tables.';\n",
              "          element.innerHTML = '';\n",
              "          dataTable['output_type'] = 'display_data';\n",
              "          await google.colab.output.renderOutput(dataTable, element);\n",
              "          const docLink = document.createElement('div');\n",
              "          docLink.innerHTML = docLinkHtml;\n",
              "          element.appendChild(docLink);\n",
              "        }\n",
              "      </script>\n",
              "    </div>\n",
              "  </div>\n",
              "  "
            ]
          },
          "metadata": {},
          "execution_count": 7
        }
      ],
      "source": [
        "checkNull = dataFrame.isnull()\n",
        "print ('HERE WE CAN CLEARLY SEE THAT THERE IS MANY NULL VALUE'+'\\nTRUE INDICATES THE NULL VALUE ' )\n",
        "checkNull"
      ]
    },
    {
      "cell_type": "markdown",
      "metadata": {
        "id": "MAaTqd-oFPaN"
      },
      "source": [
        "###### 5. COUNT THE NUMBER OF NULL VALUES IN EACH COLUMN. ANALYZE THE POSSIBLE REASONS FOR THE MISSING VALUE AND DOCUMENT THE FINDINGS IF ANY"
      ]
    },
    {
      "cell_type": "code",
      "execution_count": 8,
      "metadata": {
        "colab": {
          "base_uri": "https://localhost:8080/"
        },
        "id": "7D1yZ3c0FPaO",
        "outputId": "547694d7-d854-4ffa-a632-fe9d12e92e16"
      },
      "outputs": [
        {
          "output_type": "stream",
          "name": "stdout",
          "text": [
            "\bHERE IS THE NULL VALUES IN THE EACH COLUMN OF DATAFRAME \n",
            "title                              0\n",
            "title_orig                         0\n",
            "price                              0\n",
            "retail_price                       0\n",
            "currency_buyer                     0\n",
            "units_sold                         0\n",
            "uses_ad_boosts                     0\n",
            "rating                             0\n",
            "rating_count                       0\n",
            "rating_five_count                 45\n",
            "rating_four_count                 45\n",
            "rating_three_count                45\n",
            "rating_two_count                  45\n",
            "rating_one_count                  45\n",
            "badges_count                       0\n",
            "badge_local_product                0\n",
            "badge_product_quality              0\n",
            "badge_fast_shipping                0\n",
            "tags                               0\n",
            "product_color                     41\n",
            "product_variation_size_id         14\n",
            "product_variation_inventory        0\n",
            "shipping_option_name               0\n",
            "shipping_option_price              0\n",
            "shipping_is_express                0\n",
            "countries_shipped_to               0\n",
            "inventory_total                    0\n",
            "has_urgency_banner              1100\n",
            "urgency_text                    1100\n",
            "origin_country                    17\n",
            "merchant_title                     0\n",
            "merchant_name                      4\n",
            "merchant_info_subtitle             1\n",
            "merchant_rating_count              0\n",
            "merchant_rating                    0\n",
            "merchant_id                        0\n",
            "merchant_has_profile_picture       0\n",
            "merchant_profile_picture        1347\n",
            "product_url                        0\n",
            "product_picture                    0\n",
            "product_id                         0\n",
            "theme                              0\n",
            "crawl_month                        0\n",
            "dtype: int64\n",
            "\n",
            "\b TOTAL NUMBER OF NULL VALUE IN DATAFRAME: 3849\n"
          ]
        }
      ],
      "source": [
        "print(\"\\bHERE IS THE NULL VALUES IN THE EACH COLUMN OF DATAFRAME \")\n",
        "detailedNull = dataFrame.isnull().sum()\n",
        "print(detailedNull)\n",
        "totalNull = dataFrame.isnull().sum().sum()\n",
        "print(\"\\n\\b TOTAL NUMBER OF NULL VALUE IN DATAFRAME:\",totalNull)"
      ]
    },
    {
      "cell_type": "markdown",
      "metadata": {
        "id": "h-QbZAJQFPaO"
      },
      "source": [
        "###### 6.CALCULATE COUNT, MEAN, STD, MIN, 25%, 50%, 75%, MAX VALUES FOR EACH COLUMN. PREPARE AN ANALYSIS OF THE DIFFERENCE BETWEEN MEAN AND MEDIAN FOR EACH COLUMN AND POSSIBLE REASONS FOR THE SAME"
      ]
    },
    {
      "cell_type": "markdown",
      "metadata": {
        "id": "zTWpGm4qFPaP"
      },
      "source": [
        "***(I) FOR PRICE***"
      ]
    },
    {
      "cell_type": "code",
      "execution_count": 9,
      "metadata": {
        "colab": {
          "base_uri": "https://localhost:8080/"
        },
        "id": "r-yVeX3wFPaP",
        "outputId": "47104e6b-d699-4868-9c02-5372add0e476"
      },
      "outputs": [
        {
          "output_type": "stream",
          "name": "stdout",
          "text": [
            "TOTAL SUM OF COLUMN PRICE                    : 13095.810000000001\n",
            "TOTAL COUNT OF NONZEROS IN PRICE             : 1573\n",
            "MAXIMUM VALUE IN PRICE                       : 49.0\n",
            "MINIMUM VALUE IN PRICE                       : 1.0\n",
            "MEDIAN VALUE OF PRICE                        : 8.0\n",
            "MEAN VALUE OF PRICE                          : 8.325371900826447\n",
            "STANDARD DEVIATION OF PRICE                  : 3.930779765654176\n",
            "25% VALUE IN PRICE                           : 5.8100000000000005\n",
            "50% VALUE IN PRICE                           : 8.0\n",
            "75% VALUE IN PRICE                           : 11.0\n",
            "\n",
            "\bDIFFERENCE BETWEEN MEAN AND MEDIAN: 0.32537190082644685\n"
          ]
        }
      ],
      "source": [
        "Price = dataFrame.price\n",
        "print(\"TOTAL SUM OF COLUMN PRICE                    :\",np.sum(Price))\n",
        "print(\"TOTAL COUNT OF NONZEROS IN PRICE             :\",np.count_nonzero(Price))\n",
        "print(\"MAXIMUM VALUE IN PRICE                       :\",np.max(Price))\n",
        "print(\"MINIMUM VALUE IN PRICE                       :\",np.min(Price))\n",
        "print(\"MEDIAN VALUE OF PRICE                        :\",np.nanmedian(Price))\n",
        "print(\"MEAN VALUE OF PRICE                          :\",np.mean(Price))\n",
        "print(\"STANDARD DEVIATION OF PRICE                  :\",np.std(Price))\n",
        "print(\"25% VALUE IN PRICE                           :\",np.nanpercentile(Price,25))\n",
        "print(\"50% VALUE IN PRICE                           :\",np.nanpercentile(Price,50))\n",
        "print(\"75% VALUE IN PRICE                           :\",np.nanpercentile(Price,75))\n",
        "\n",
        "print(\"\\n\\bDIFFERENCE BETWEEN MEAN AND MEDIAN:\",np.nanmean(Price)-np.nanmedian(Price))"
      ]
    },
    {
      "cell_type": "markdown",
      "metadata": {
        "id": "QhO_bv7YFPaQ"
      },
      "source": [
        "***(II) FOR RETAIL PRICE***"
      ]
    },
    {
      "cell_type": "code",
      "execution_count": 10,
      "metadata": {
        "colab": {
          "base_uri": "https://localhost:8080/"
        },
        "id": "qunzNApbFPaQ",
        "outputId": "9553b266-52ab-49c1-c7d7-17c1c70de531"
      },
      "outputs": [
        {
          "output_type": "stream",
          "name": "stdout",
          "text": [
            "TOTAL SUM OF COLUMN RETAILPRICE             : 36633\n",
            "TOTAL COUNT OF NONZEROS IN RETAILPRICE      : 1573\n",
            "MAXIMUM VALUE IN RETAILPRICE                : 252\n",
            "MINIMUM VALUE IN RETAILPRICE                : 1\n",
            "MEDIAN VALUE OF RETAILPRICE                 : 10.0\n",
            "MEAN VALUE OF RETAILPRICE                   : 23.28862047043865\n",
            "STANDARD DEVIATION OFRETAILPRICE            : 30.348211884624067\n",
            "25% VALUE IN RETAILPRICE                    : 7.0\n",
            "50% VALUE IN RETAILPRICE                    : 10.0\n",
            "75% VALUE IN RETAILPRICE                    : 26.0\n",
            "\n",
            "\bDIFFERENCE BETWEEN MEAN AND MEDIAN: 13.288620470438651\n"
          ]
        }
      ],
      "source": [
        "retailPrice = dataFrame.retail_price\n",
        "print(\"TOTAL SUM OF COLUMN RETAILPRICE             :\",np.sum(retailPrice))\n",
        "print(\"TOTAL COUNT OF NONZEROS IN RETAILPRICE      :\",np.count_nonzero(retailPrice))\n",
        "print(\"MAXIMUM VALUE IN RETAILPRICE                :\",np.max(retailPrice))\n",
        "print(\"MINIMUM VALUE IN RETAILPRICE                :\",np.min(retailPrice))\n",
        "print(\"MEDIAN VALUE OF RETAILPRICE                 :\",np.nanmedian(retailPrice))\n",
        "print(\"MEAN VALUE OF RETAILPRICE                   :\",np.nanmean(retailPrice))\n",
        "print(\"STANDARD DEVIATION OFRETAILPRICE            :\",np.std(retailPrice))\n",
        "print(\"25% VALUE IN RETAILPRICE                    :\",np.nanpercentile(retailPrice,25))\n",
        "print(\"50% VALUE IN RETAILPRICE                    :\",np.nanpercentile(retailPrice,50))\n",
        "print(\"75% VALUE IN RETAILPRICE                    :\",np.nanpercentile(retailPrice,75))\n",
        "\n",
        "print(\"\\n\\bDIFFERENCE BETWEEN MEAN AND MEDIAN:\",np.nanmean(retailPrice)-np.nanmedian(retailPrice))"
      ]
    },
    {
      "cell_type": "markdown",
      "metadata": {
        "id": "fYzL6EBqFPaR"
      },
      "source": [
        "###### (III) FOR UNITS SOLD"
      ]
    },
    {
      "cell_type": "code",
      "execution_count": 11,
      "metadata": {
        "colab": {
          "base_uri": "https://localhost:8080/"
        },
        "id": "s5Dk1ue8FPaS",
        "outputId": "14ef53f4-35f8-4bfb-9864-83dc893b6894"
      },
      "outputs": [
        {
          "output_type": "stream",
          "name": "stdout",
          "text": [
            "TOTAL SUM OF COLUMN UNITSSOLD             : 6825255\n",
            "TOTAL COUNT OF NONZEROS IN UNITSSOLD      : 1573\n",
            "MAXIMUM VALUE IN UNITSSOLD                : 100000\n",
            "MINIMUM VALUE IN UNITSSOLD                : 1\n",
            "MEDIAN VALUE OF UNITSSOLD                 : 1000.0\n",
            "MEAN VALUE OF UNITSSOLD                   : 4339.005085823268\n",
            "STANDARD DEVIATION OF UNITSSOLD           : 9353.56472265805\n",
            "25% VALUE IN UNITSSOLD                    : 100.0\n",
            "50% VALUE IN UNITSSOLD                    : 1000.0\n",
            "75% VALUE IN UNITSSOLD                    : 5000.0\n",
            "\n",
            "\bDIFFERENCE BETWEEN MEAN AND MEDIAN: 3339.005085823268\n"
          ]
        }
      ],
      "source": [
        "unitsSold = dataFrame.units_sold\n",
        "print(\"TOTAL SUM OF COLUMN UNITSSOLD             :\",np.sum(unitsSold))\n",
        "print(\"TOTAL COUNT OF NONZEROS IN UNITSSOLD      :\",np.count_nonzero(unitsSold))\n",
        "print(\"MAXIMUM VALUE IN UNITSSOLD                :\",np.max(unitsSold))\n",
        "print(\"MINIMUM VALUE IN UNITSSOLD                :\",np.min(unitsSold))\n",
        "print(\"MEDIAN VALUE OF UNITSSOLD                 :\",np.nanmedian(unitsSold))\n",
        "print(\"MEAN VALUE OF UNITSSOLD                   :\",np.nanmean(unitsSold))\n",
        "print(\"STANDARD DEVIATION OF UNITSSOLD           :\",np.std(unitsSold))\n",
        "print(\"25% VALUE IN UNITSSOLD                    :\",np.nanpercentile(unitsSold,25))\n",
        "print(\"50% VALUE IN UNITSSOLD                    :\",np.nanpercentile(unitsSold,50))\n",
        "print(\"75% VALUE IN UNITSSOLD                    :\",np.nanpercentile(unitsSold,75))\n",
        "\n",
        "print(\"\\n\\bDIFFERENCE BETWEEN MEAN AND MEDIAN:\",np.nanmean(unitsSold)-np.nanmedian(unitsSold))"
      ]
    },
    {
      "cell_type": "markdown",
      "metadata": {
        "id": "76LkXXw1FPaS"
      },
      "source": [
        "###### (IV) FOR RATINGS"
      ]
    },
    {
      "cell_type": "code",
      "execution_count": 12,
      "metadata": {
        "colab": {
          "base_uri": "https://localhost:8080/"
        },
        "id": "Mu2j3eyoFPaT",
        "outputId": "9d313c9a-c708-4066-b13d-21c2cbaa3707"
      },
      "outputs": [
        {
          "output_type": "stream",
          "name": "stdout",
          "text": [
            "TOTAL SUM OF COLUMN RATINGS             : 6010.27\n",
            "TOTAL COUNT OF NONZEROS IN RATINGS      : 1573\n",
            "MAXIMUM VALUE IN RATINGS                : 5.0\n",
            "MINIMUM VALUE IN RATINGS                : 1.0\n",
            "MEDIAN VALUE OF RATINGS                 : 3.85\n",
            "MEAN VALUE OF RATINGS                   : 3.8208963763509223\n",
            "STANDARD DEVIATION OF RATINGS           : 0.5152097543511814\n",
            "25% VALUE IN RATINGS                    : 3.55\n",
            "50% VALUE IN RATINGS                    : 3.85\n",
            "75% VALUE IN RATINGS                    : 4.11\n",
            "\n",
            "\bDIFFERENCE BETWEEN MEAN AND MEDIAN: -0.029103623649077814\n"
          ]
        }
      ],
      "source": [
        "ratings = dataFrame.rating\n",
        "print(\"TOTAL SUM OF COLUMN RATINGS             :\",np.sum(ratings))\n",
        "print(\"TOTAL COUNT OF NONZEROS IN RATINGS      :\",np.count_nonzero(ratings))\n",
        "print(\"MAXIMUM VALUE IN RATINGS                :\",np.max(ratings))\n",
        "print(\"MINIMUM VALUE IN RATINGS                :\",np.min(ratings))\n",
        "print(\"MEDIAN VALUE OF RATINGS                 :\",np.nanmedian(ratings))\n",
        "print(\"MEAN VALUE OF RATINGS                   :\",np.nanmean(ratings))\n",
        "print(\"STANDARD DEVIATION OF RATINGS           :\",np.std(ratings))\n",
        "print(\"25% VALUE IN RATINGS                    :\",np.nanpercentile(ratings,25))\n",
        "print(\"50% VALUE IN RATINGS                    :\",np.nanpercentile(ratings,50))\n",
        "print(\"75% VALUE IN RATINGS                    :\",np.nanpercentile(ratings,75))\n",
        "\n",
        "print(\"\\n\\bDIFFERENCE BETWEEN MEAN AND MEDIAN:\",np.nanmean(ratings)-np.nanmedian(ratings))"
      ]
    },
    {
      "cell_type": "markdown",
      "metadata": {
        "id": "8njmp2AEFPaT"
      },
      "source": [
        "###### (V) FOR RATINGS COUNTS"
      ]
    },
    {
      "cell_type": "code",
      "execution_count": 13,
      "metadata": {
        "colab": {
          "base_uri": "https://localhost:8080/"
        },
        "id": "aJtF8sTwFPaU",
        "outputId": "f66c2de3-e44b-4865-e0bd-1172a42d2f8d"
      },
      "outputs": [
        {
          "output_type": "stream",
          "name": "stdout",
          "text": [
            "TOTAL SUM OF COLUMN RATINGSCOUNT             : 1399434\n",
            "TOTAL COUNT OF NONZEROS IN RATINGSCOUNT      : 1528\n",
            "MAXIMUM VALUE IN RATINGSCOUNT                : 20744\n",
            "MINIMUM VALUE IN RATINGSCOUNT                : 0\n",
            "MEDIAN VALUE OF RATINGSCOUNT                 : 150.0\n",
            "MEAN VALUE OF RATINGSCOUNT                   : 889.659249841068\n",
            "STANDARD DEVIATION OF RATINGSCOUNT           : 1983.298114481977\n",
            "25% VALUE IN RATINGSCOUNT                    : 24.0\n",
            "50% VALUE IN RATINGSCOUNT                    : 150.0\n",
            "75% VALUE IN RATINGSCOUNT                    : 855.0\n",
            "\n",
            "\bDIFFERENCE BETWEEN MEAN AND MEDIAN: 739.659249841068\n"
          ]
        }
      ],
      "source": [
        "ratingsCount = dataFrame.rating_count\n",
        "print(\"TOTAL SUM OF COLUMN RATINGSCOUNT             :\",np.sum(ratingsCount))\n",
        "print(\"TOTAL COUNT OF NONZEROS IN RATINGSCOUNT      :\",np.count_nonzero(ratingsCount))\n",
        "print(\"MAXIMUM VALUE IN RATINGSCOUNT                :\",np.max(ratingsCount))\n",
        "print(\"MINIMUM VALUE IN RATINGSCOUNT                :\",np.min(ratingsCount))\n",
        "print(\"MEDIAN VALUE OF RATINGSCOUNT                 :\",np.nanmedian(ratingsCount))\n",
        "print(\"MEAN VALUE OF RATINGSCOUNT                   :\",np.nanmean(ratingsCount))\n",
        "print(\"STANDARD DEVIATION OF RATINGSCOUNT           :\",np.std(ratingsCount))\n",
        "print(\"25% VALUE IN RATINGSCOUNT                    :\",np.nanpercentile(ratingsCount,25))\n",
        "print(\"50% VALUE IN RATINGSCOUNT                    :\",np.nanpercentile(ratingsCount,50))\n",
        "print(\"75% VALUE IN RATINGSCOUNT                    :\",np.nanpercentile(ratingsCount,75))\n",
        "\n",
        "print(\"\\n\\bDIFFERENCE BETWEEN MEAN AND MEDIAN:\",np.nanmean(ratingsCount)-np.nanmedian(ratingsCount))"
      ]
    },
    {
      "cell_type": "markdown",
      "metadata": {
        "id": "rVfvcuiVFPaU"
      },
      "source": [
        "###### (VI) FOR RATINGS FIVE COUNTS"
      ]
    },
    {
      "cell_type": "code",
      "execution_count": 14,
      "metadata": {
        "colab": {
          "base_uri": "https://localhost:8080/"
        },
        "id": "3DiJyTKwFPaV",
        "outputId": "b3d72e1f-c40c-488b-9e01-55a293a34632"
      },
      "outputs": [
        {
          "output_type": "stream",
          "name": "stdout",
          "text": [
            "TOTAL SUM OF COLUMN RATINGS_FIVE_COUNT             : 675779.0\n",
            "TOTAL COUNT OF NONZEROS IN RATINGS_FIVE_COUNT      : 1542\n",
            "MAXIMUM VALUE IN RATINGS_FIVE_COUNT                : 11548.0\n",
            "MINIMUM VALUE IN RATINGS_FIVE_COUNT                : 0.0\n",
            "MEDIAN VALUE OF RATINGS_FIVE_COUNT                 : 79.0\n",
            "MEAN VALUE OF RATINGS_FIVE_COUNT                   : 442.2637434554974\n",
            "STANDARD DEVIATION OF RATINGS_FIVE_COUNT           : 979.8824699502636\n",
            "25% VALUE IN RATINGS_FIVE_COUNT                    : 12.0\n",
            "50% VALUE IN RATINGS_FIVE_COUNT                    : 79.0\n",
            "75% VALUE IN RATINGS_FIVE_COUNT                    : 413.5\n",
            "\n",
            "\bDIFFERENCE BETWEEN MEAN AND MEDIAN: 363.2637434554974\n"
          ]
        }
      ],
      "source": [
        "ratingsFiveCount = dataFrame.rating_five_count\n",
        "print(\"TOTAL SUM OF COLUMN RATINGS_FIVE_COUNT             :\",np.sum(ratingsFiveCount))\n",
        "print(\"TOTAL COUNT OF NONZEROS IN RATINGS_FIVE_COUNT      :\",np.count_nonzero(ratingsFiveCount))\n",
        "print(\"MAXIMUM VALUE IN RATINGS_FIVE_COUNT                :\",np.max(ratingsFiveCount))\n",
        "print(\"MINIMUM VALUE IN RATINGS_FIVE_COUNT                :\",np.min(ratingsFiveCount))\n",
        "print(\"MEDIAN VALUE OF RATINGS_FIVE_COUNT                 :\",np.nanmedian(ratingsFiveCount))\n",
        "print(\"MEAN VALUE OF RATINGS_FIVE_COUNT                   :\",np.nanmean(ratingsFiveCount))\n",
        "print(\"STANDARD DEVIATION OF RATINGS_FIVE_COUNT           :\",np.std(ratingsFiveCount))\n",
        "print(\"25% VALUE IN RATINGS_FIVE_COUNT                    :\",np.nanpercentile(ratingsFiveCount,25))\n",
        "print(\"50% VALUE IN RATINGS_FIVE_COUNT                    :\",np.nanpercentile(ratingsFiveCount,50))\n",
        "print(\"75% VALUE IN RATINGS_FIVE_COUNT                    :\",np.nanpercentile(ratingsFiveCount,75))\n",
        "\n",
        "print(\"\\n\\bDIFFERENCE BETWEEN MEAN AND MEDIAN:\",np.nanmean(ratingsFiveCount)-np.nanmedian(ratingsFiveCount))"
      ]
    },
    {
      "cell_type": "markdown",
      "metadata": {
        "id": "aCFmDAfbFPaV"
      },
      "source": [
        "###### (VII) FOR RATINGS FOUR COUNTS"
      ]
    },
    {
      "cell_type": "code",
      "execution_count": 15,
      "metadata": {
        "colab": {
          "base_uri": "https://localhost:8080/"
        },
        "id": "Dv2nb5ZSFPaV",
        "outputId": "d2893d64-99bc-4464-a3b6-59908a731279"
      },
      "outputs": [
        {
          "output_type": "stream",
          "name": "stdout",
          "text": [
            "TOTAL SUM OF COLUMN RATINGS_FOUR_COUNT             : 274428.0\n",
            "TOTAL COUNT OF NONZEROS IN RATINGS_FOUR_COUNT      : 1477\n",
            "MAXIMUM VALUE IN RATINGS_FOUR_COUNT                : 4152.0\n",
            "MINIMUM VALUE IN RATINGS_FOUR_COUNT                : 0.0\n",
            "MEDIAN VALUE OF RATINGS_FOUR_COUNT                 : 31.5\n",
            "MEAN VALUE OF RATINGS_FOUR_COUNT                   : 179.59947643979058\n",
            "STANDARD DEVIATION OF RATINGS_FOUR_COUNT           : 400.3851506989856\n",
            "25% VALUE IN RATINGS_FOUR_COUNT                    : 5.0\n",
            "50% VALUE IN RATINGS_FOUR_COUNT                    : 31.5\n",
            "75% VALUE IN RATINGS_FOUR_COUNT                    : 168.25\n",
            "\n",
            "\bDIFFERENCE BETWEEN MEAN AND MEDIAN: 148.09947643979058\n"
          ]
        }
      ],
      "source": [
        "ratingsFourCount = dataFrame.rating_four_count\n",
        "print(\"TOTAL SUM OF COLUMN RATINGS_FOUR_COUNT             :\",np.sum(ratingsFourCount))\n",
        "print(\"TOTAL COUNT OF NONZEROS IN RATINGS_FOUR_COUNT      :\",np.count_nonzero(ratingsFourCount))\n",
        "print(\"MAXIMUM VALUE IN RATINGS_FOUR_COUNT                :\",np.max(ratingsFourCount))\n",
        "print(\"MINIMUM VALUE IN RATINGS_FOUR_COUNT                :\",np.min(ratingsFourCount))\n",
        "print(\"MEDIAN VALUE OF RATINGS_FOUR_COUNT                 :\",np.nanmedian(ratingsFourCount))\n",
        "print(\"MEAN VALUE OF RATINGS_FOUR_COUNT                   :\",np.mean(ratingsFourCount))\n",
        "print(\"STANDARD DEVIATION OF RATINGS_FOUR_COUNT           :\",np.std(ratingsFourCount))\n",
        "print(\"25% VALUE IN RATINGS_FOUR_COUNT                    :\",np.nanpercentile(ratingsFourCount,25))\n",
        "print(\"50% VALUE IN RATINGS_FOUR_COUNT                    :\",np.nanpercentile(ratingsFourCount,50))\n",
        "print(\"75% VALUE IN RATINGS_FOUR_COUNT                    :\",np.nanpercentile(ratingsFourCount,75))\n",
        "\n",
        "print(\"\\n\\bDIFFERENCE BETWEEN MEAN AND MEDIAN:\",np.nanmean(ratingsFourCount)-np.nanmedian(ratingsFourCount))"
      ]
    },
    {
      "cell_type": "markdown",
      "metadata": {
        "id": "7o91OIy2FPaW"
      },
      "source": [
        "###### (VIII) FOR RATINGS THREE COUNTS"
      ]
    },
    {
      "cell_type": "code",
      "execution_count": 16,
      "metadata": {
        "colab": {
          "base_uri": "https://localhost:8080/"
        },
        "id": "IaArE4EaFPaW",
        "outputId": "5f8e9d81-1be9-4acd-fe39-30ca1a56d0bd"
      },
      "outputs": [
        {
          "output_type": "stream",
          "name": "stdout",
          "text": [
            "TOTAL SUM OF COLUMN RATINGS_THREE_COUNT             : 205592.0\n",
            "TOTAL COUNT OF NONZEROS IN RATINGS_THREE_COUNT      : 1435\n",
            "MAXIMUM VALUE IN RATINGS_THREE_COUNT                : 3658.0\n",
            "MINIMUM VALUE IN RATINGS_THREE_COUNT                : 0.0\n",
            "MEDIAN VALUE OF RATINGS_THREE_COUNT                 : 24.0\n",
            "MEAN VALUE OF RATINGS_THREE_COUNT                   : 134.5497382198953\n",
            "STANDARD DEVIATION OF RATINGS_THREE_COUNT           : 311.5886461941517\n",
            "25% VALUE IN RATINGS_THREE_COUNT                    : 4.0\n",
            "50% VALUE IN RATINGS_THREE_COUNT                    : 24.0\n",
            "75% VALUE IN RATINGS_THREE_COUNT                    : 129.25\n",
            "\n",
            "\bDIFFERENCE BETWEEN MEAN AND MEDIAN: 110.54973821989529\n"
          ]
        }
      ],
      "source": [
        "ratingsThreeCount = dataFrame.rating_three_count\n",
        "print(\"TOTAL SUM OF COLUMN RATINGS_THREE_COUNT             :\",np.sum(ratingsThreeCount))\n",
        "print(\"TOTAL COUNT OF NONZEROS IN RATINGS_THREE_COUNT      :\",np.count_nonzero(ratingsThreeCount))\n",
        "print(\"MAXIMUM VALUE IN RATINGS_THREE_COUNT                :\",np.max(ratingsThreeCount))\n",
        "print(\"MINIMUM VALUE IN RATINGS_THREE_COUNT                :\",np.min(ratingsThreeCount))\n",
        "print(\"MEDIAN VALUE OF RATINGS_THREE_COUNT                 :\",np.nanmedian(ratingsThreeCount))\n",
        "print(\"MEAN VALUE OF RATINGS_THREE_COUNT                   :\",np.mean(ratingsThreeCount))\n",
        "print(\"STANDARD DEVIATION OF RATINGS_THREE_COUNT           :\",np.std(ratingsThreeCount))\n",
        "print(\"25% VALUE IN RATINGS_THREE_COUNT                    :\",np.nanpercentile(ratingsThreeCount,25))\n",
        "print(\"50% VALUE IN RATINGS_THREE_COUNT                    :\",np.nanpercentile(ratingsThreeCount,50))\n",
        "print(\"75% VALUE IN RATINGS_THREE_COUNT                    :\",np.nanpercentile(ratingsThreeCount,75))\n",
        "\n",
        "print(\"\\n\\bDIFFERENCE BETWEEN MEAN AND MEDIAN:\",np.nanmean(ratingsThreeCount)-np.nanmedian(ratingsThreeCount))"
      ]
    },
    {
      "cell_type": "markdown",
      "metadata": {
        "id": "o99J5ZrQFPaW"
      },
      "source": [
        "###### (IX) FOR RATINGS TWO COUNTS"
      ]
    },
    {
      "cell_type": "code",
      "execution_count": 17,
      "metadata": {
        "colab": {
          "base_uri": "https://localhost:8080/"
        },
        "id": "Zrd0RZ3rFPaX",
        "outputId": "4396222f-4fd9-4626-eda5-b9f77de5730b"
      },
      "outputs": [
        {
          "output_type": "stream",
          "name": "stdout",
          "text": [
            "TOTAL SUM OF COLUMN RATINGS_TWO_COUNT             : 97351.0\n",
            "TOTAL COUNT OF NONZEROS IN RATINGS_TWO_COUNT      : 1377\n",
            "MAXIMUM VALUE IN RATINGS_TWO_COUNT                : 2003.0\n",
            "MINIMUM VALUE IN RATINGS_TWO_COUNT                : 0.0\n",
            "MEDIAN VALUE OF RATINGS_TWO_COUNT                 : 11.0\n",
            "MEAN VALUE OF RATINGS_TWO_COUNT                   : 63.71138743455497\n",
            "STANDARD DEVIATION OF RATINGS_TWO_COUNT           : 151.29440138772068\n",
            "25% VALUE IN RATINGS_TWO_COUNT                    : 2.0\n",
            "50% VALUE IN RATINGS_TWO_COUNT                    : 11.0\n",
            "75% VALUE IN RATINGS_TWO_COUNT                    : 62.0\n",
            "\n",
            "\bDIFFERENCE BETWEEN MEAN AND MEDIAN: 52.71138743455497\n"
          ]
        }
      ],
      "source": [
        "ratingsTwoCount = dataFrame.rating_two_count\n",
        "print(\"TOTAL SUM OF COLUMN RATINGS_TWO_COUNT             :\",np.sum(ratingsTwoCount))\n",
        "print(\"TOTAL COUNT OF NONZEROS IN RATINGS_TWO_COUNT      :\",np.count_nonzero(ratingsTwoCount))\n",
        "print(\"MAXIMUM VALUE IN RATINGS_TWO_COUNT                :\",np.max(ratingsTwoCount))\n",
        "print(\"MINIMUM VALUE IN RATINGS_TWO_COUNT                :\",np.min(ratingsTwoCount))\n",
        "print(\"MEDIAN VALUE OF RATINGS_TWO_COUNT                 :\",np.nanmedian(ratingsTwoCount))\n",
        "print(\"MEAN VALUE OF RATINGS_TWO_COUNT                   :\",np.mean(ratingsTwoCount))\n",
        "print(\"STANDARD DEVIATION OF RATINGS_TWO_COUNT           :\",np.std(ratingsTwoCount))\n",
        "print(\"25% VALUE IN RATINGS_TWO_COUNT                    :\",np.nanpercentile(ratingsTwoCount,25))\n",
        "print(\"50% VALUE IN RATINGS_TWO_COUNT                    :\",np.nanpercentile(ratingsTwoCount,50))\n",
        "print(\"75% VALUE IN RATINGS_TWO_COUNT                    :\",np.nanpercentile(ratingsTwoCount,75))\n",
        "\n",
        "print(\"\\n\\bDIFFERENCE BETWEEN MEAN AND MEDIAN:\",np.nanmean(ratingsTwoCount)-np.nanmedian(ratingsTwoCount))"
      ]
    },
    {
      "cell_type": "markdown",
      "metadata": {
        "id": "uXoKuXVKFPaX"
      },
      "source": [
        "###### (X) FOR RATINGS ONE COUNTS"
      ]
    },
    {
      "cell_type": "code",
      "execution_count": 18,
      "metadata": {
        "colab": {
          "base_uri": "https://localhost:8080/"
        },
        "id": "ByZSxwjMFPaX",
        "outputId": "cacf01a5-6d31-42cb-e5b0-b8793df476e2"
      },
      "outputs": [
        {
          "output_type": "stream",
          "name": "stdout",
          "text": [
            "TOTAL SUM OF COLUMN RATINGS_ONE_COUNT             : 146284.0\n",
            "TOTAL COUNT OF NONZEROS IN RATINGS_ONE_COUNT      : 1457\n",
            "MAXIMUM VALUE IN RATINGS_ONE_COUNT                : 2789.0\n",
            "MINIMUM VALUE IN RATINGS_ONE_COUNT                : 0.0\n",
            "MEDIAN VALUE OF RATINGS_ONE_COUNT                 : 20.0\n",
            "MEAN VALUE OF RATINGS_ONE_COUNT                   : 95.73560209424083\n",
            "STANDARD DEVIATION OF RATINGS_ONE_COUNT           : 214.00548199547114\n",
            "25% VALUE IN RATINGS_ONE_COUNT                    : 4.0\n",
            "50% VALUE IN RATINGS_ONE_COUNT                    : 20.0\n",
            "75% VALUE IN RATINGS_ONE_COUNT                    : 94.0\n",
            "\n",
            "\bDIFFERENCE BETWEEN MEAN AND MEDIAN: 75.73560209424083\n"
          ]
        }
      ],
      "source": [
        "ratingsOneCount = dataFrame.rating_one_count\n",
        "print(\"TOTAL SUM OF COLUMN RATINGS_ONE_COUNT             :\",np.sum(ratingsOneCount))\n",
        "print(\"TOTAL COUNT OF NONZEROS IN RATINGS_ONE_COUNT      :\",np.count_nonzero(ratingsOneCount))\n",
        "print(\"MAXIMUM VALUE IN RATINGS_ONE_COUNT                :\",np.max(ratingsOneCount))\n",
        "print(\"MINIMUM VALUE IN RATINGS_ONE_COUNT                :\",np.min(ratingsOneCount))\n",
        "print(\"MEDIAN VALUE OF RATINGS_ONE_COUNT                 :\",np.nanmedian(ratingsOneCount))\n",
        "print(\"MEAN VALUE OF RATINGS_ONE_COUNT                   :\",np.mean(ratingsOneCount))\n",
        "print(\"STANDARD DEVIATION OF RATINGS_ONE_COUNT           :\",np.std(ratingsOneCount))\n",
        "print(\"25% VALUE IN RATINGS_ONE_COUNT                    :\",np.nanpercentile(ratingsOneCount,25))\n",
        "print(\"50% VALUE IN RATINGS_ONE_COUNT                    :\",np.nanpercentile(ratingsOneCount,50))\n",
        "print(\"75% VALUE IN RATINGS_ONE_COUNT                    :\",np.nanpercentile(ratingsOneCount,75))\n",
        "\n",
        "print(\"\\n\\bDIFFERENCE BETWEEN MEAN AND MEDIAN:\",np.nanmean(ratingsOneCount)-np.nanmedian(ratingsOneCount))"
      ]
    },
    {
      "cell_type": "markdown",
      "metadata": {
        "id": "Od-McaYHFPaY"
      },
      "source": [
        "###### (XI) FOR BADGES COUNT"
      ]
    },
    {
      "cell_type": "code",
      "execution_count": 19,
      "metadata": {
        "colab": {
          "base_uri": "https://localhost:8080/"
        },
        "id": "U4SA8rF1FPaY",
        "outputId": "b8cc6c60-de6c-4596-dd0e-49ae069b1276"
      },
      "outputs": [
        {
          "output_type": "stream",
          "name": "stdout",
          "text": [
            "TOTAL SUM OF COLUMN BADGES_COUNT             : 166\n",
            "TOTAL COUNT OF NONZEROS IN BADGES_COUNT      : 151\n",
            "MAXIMUM VALUE IN BADGES_COUNT                : 3\n",
            "MINIMUM VALUE IN BADGES_COUNT                : 0\n",
            "MEDIAN VALUE OF BADGES_COUNT                 : 0.0\n",
            "MEAN VALUE OF BADGES_COUNT                   : 0.10553083280356007\n",
            "STANDARD DEVIATION OF BADGES_COUNT           : 0.3406006826458563\n",
            "25% VALUE IN BADGES_COUNT                    : 0.0\n",
            "50% VALUE IN BADGES_COUNT                    : 0.0\n",
            "75% VALUE IN BADGES_COUNT                    : 0.0\n",
            "\n",
            "\bDIFFERENCE BETWEEN MEAN AND MEDIAN: 0.10553083280356007\n"
          ]
        }
      ],
      "source": [
        "badgesCount = dataFrame.badges_count\n",
        "print(\"TOTAL SUM OF COLUMN BADGES_COUNT             :\",np.sum(badgesCount))\n",
        "print(\"TOTAL COUNT OF NONZEROS IN BADGES_COUNT      :\",np.count_nonzero(badgesCount))\n",
        "print(\"MAXIMUM VALUE IN BADGES_COUNT                :\",np.max(badgesCount))\n",
        "print(\"MINIMUM VALUE IN BADGES_COUNT                :\",np.min(badgesCount))\n",
        "print(\"MEDIAN VALUE OF BADGES_COUNT                 :\",np.nanmedian(badgesCount))\n",
        "print(\"MEAN VALUE OF BADGES_COUNT                   :\",np.mean(badgesCount))\n",
        "print(\"STANDARD DEVIATION OF BADGES_COUNT           :\",np.std(badgesCount))\n",
        "print(\"25% VALUE IN BADGES_COUNT                    :\",np.nanpercentile(badgesCount,25))\n",
        "print(\"50% VALUE IN BADGES_COUNT                    :\",np.nanpercentile(badgesCount,50))\n",
        "print(\"75% VALUE IN BADGES_COUNT                    :\",np.nanpercentile(badgesCount,75))\n",
        "\n",
        "print(\"\\n\\bDIFFERENCE BETWEEN MEAN AND MEDIAN:\",np.nanmean(badgesCount)-np.nanmedian(badgesCount))"
      ]
    },
    {
      "cell_type": "markdown",
      "metadata": {
        "id": "7N3AfOogFPaY"
      },
      "source": [
        "###### (XII) FOR BADGES  LOCAL PRODUCT "
      ]
    },
    {
      "cell_type": "code",
      "execution_count": 20,
      "metadata": {
        "colab": {
          "base_uri": "https://localhost:8080/"
        },
        "id": "AvLL9K8AFPaZ",
        "outputId": "f8b86cb9-2383-461c-c23d-58de1ef37034"
      },
      "outputs": [
        {
          "output_type": "stream",
          "name": "stdout",
          "text": [
            "TOTAL SUM OF COLUMN BADGES_LOCAL_PRODUCT             : 29\n",
            "TOTAL COUNT OF NONZEROS IN BADGES_LOCAL_PRODUCT      : 29\n",
            "MAXIMUM VALUE IN BADGES_LOCAL_PRODUCT                : 1\n",
            "MINIMUM VALUE IN BADGES_LOCAL_PRODUCT                : 0\n",
            "MEDIAN VALUE OF BADGES_LOCAL_PRODUCT                 : 0.0\n",
            "MEAN VALUE OF BADGES_LOCAL_PRODUCT                   : 0.018436109345200253\n",
            "STANDARD DEVIATION OF BADGES_LOCAL_PRODUCT           : 0.13452218856906872\n",
            "25% VALUE IN BADGES_LOCAL_PRODUCT                    : 0.0\n",
            "50% VALUE IN BADGES_LOCAL_PRODUCT                    : 0.0\n",
            "75% VALUE IN BADGES_LOCAL_PRODUCT                    : 0.0\n",
            "\n",
            "\bDIFFERENCE BETWEEN MEAN AND MEDIAN: 0.018436109345200253\n"
          ]
        }
      ],
      "source": [
        "badgesLocalProduct = dataFrame.badge_local_product\n",
        "print(\"TOTAL SUM OF COLUMN BADGES_LOCAL_PRODUCT             :\",np.sum(badgesLocalProduct))\n",
        "print(\"TOTAL COUNT OF NONZEROS IN BADGES_LOCAL_PRODUCT      :\",np.count_nonzero(badgesLocalProduct))\n",
        "print(\"MAXIMUM VALUE IN BADGES_LOCAL_PRODUCT                :\",np.max(badgesLocalProduct))\n",
        "print(\"MINIMUM VALUE IN BADGES_LOCAL_PRODUCT                :\",np.min(badgesLocalProduct))\n",
        "print(\"MEDIAN VALUE OF BADGES_LOCAL_PRODUCT                 :\",np.nanmedian(badgesLocalProduct))\n",
        "print(\"MEAN VALUE OF BADGES_LOCAL_PRODUCT                   :\",np.mean(badgesLocalProduct))\n",
        "print(\"STANDARD DEVIATION OF BADGES_LOCAL_PRODUCT           :\",np.std(badgesLocalProduct))\n",
        "print(\"25% VALUE IN BADGES_LOCAL_PRODUCT                    :\",np.nanpercentile(badgesLocalProduct,25))\n",
        "print(\"50% VALUE IN BADGES_LOCAL_PRODUCT                    :\",np.nanpercentile(badgesLocalProduct,50))\n",
        "print(\"75% VALUE IN BADGES_LOCAL_PRODUCT                    :\",np.nanpercentile(badgesLocalProduct,75))\n",
        "\n",
        "print(\"\\n\\bDIFFERENCE BETWEEN MEAN AND MEDIAN:\",np.nanmean(badgesLocalProduct)-np.nanmedian(badgesLocalProduct))"
      ]
    },
    {
      "cell_type": "markdown",
      "metadata": {
        "id": "abTAsv3UFPaZ"
      },
      "source": [
        "###### (XIII) FOR BADGES PRODUCT  QUALITY"
      ]
    },
    {
      "cell_type": "code",
      "execution_count": 21,
      "metadata": {
        "colab": {
          "base_uri": "https://localhost:8080/"
        },
        "id": "8SBSTKJPFPaZ",
        "outputId": "7ba55fa9-2855-48c7-93fd-301f41a8ba28"
      },
      "outputs": [
        {
          "output_type": "stream",
          "name": "stdout",
          "text": [
            "TOTAL SUM OF COLUMN BADGES_PRODUCT_QUALITY             : 117\n",
            "TOTAL COUNT OF NONZEROS IN BADGES_PRODUCT_QUALITY      : 117\n",
            "MAXIMUM VALUE IN BADGES_PRODUCT_QUALITY                : 1\n",
            "MINIMUM VALUE IN BADGES_PRODUCT_QUALITY                : 0\n",
            "MEDIAN VALUE OF BADGES_PRODUCT_QUALITY                 : 0.0\n",
            "MEAN VALUE OF BADGES_PRODUCT_QUALITY                   : 0.0743801652892562\n",
            "STANDARD DEVIATION OF BADGES_PRODUCT_QUALITY           : 0.2623885597750007\n",
            "25% VALUE IN BADGES_PRODUCT_QUALITY                    : 0.0\n",
            "50% VALUE IN BADGES_PRODUCT_QUALITY                    : 0.0\n",
            "75% VALUE IN BADGES_PRODUCT_QUALITY                    : 0.0\n",
            "\n",
            "\bDIFFERENCE BETWEEN MEAN AND MEDIAN: 0.0743801652892562\n"
          ]
        }
      ],
      "source": [
        "badgesProductQuality = dataFrame.badge_product_quality\n",
        "print(\"TOTAL SUM OF COLUMN BADGES_PRODUCT_QUALITY             :\",np.sum(badgesProductQuality))\n",
        "print(\"TOTAL COUNT OF NONZEROS IN BADGES_PRODUCT_QUALITY      :\",np.count_nonzero(badgesProductQuality))\n",
        "print(\"MAXIMUM VALUE IN BADGES_PRODUCT_QUALITY                :\",np.max(badgesProductQuality))\n",
        "print(\"MINIMUM VALUE IN BADGES_PRODUCT_QUALITY                :\",np.min(badgesProductQuality))\n",
        "print(\"MEDIAN VALUE OF BADGES_PRODUCT_QUALITY                 :\",np.nanmedian(badgesProductQuality))\n",
        "print(\"MEAN VALUE OF BADGES_PRODUCT_QUALITY                   :\",np.mean(badgesProductQuality))\n",
        "print(\"STANDARD DEVIATION OF BADGES_PRODUCT_QUALITY           :\",np.std(badgesProductQuality))\n",
        "print(\"25% VALUE IN BADGES_PRODUCT_QUALITY                    :\",np.nanpercentile(badgesProductQuality,25))\n",
        "print(\"50% VALUE IN BADGES_PRODUCT_QUALITY                    :\",np.nanpercentile(badgesProductQuality,50))\n",
        "print(\"75% VALUE IN BADGES_PRODUCT_QUALITY                    :\",np.nanpercentile(badgesProductQuality,75))\n",
        "\n",
        "print(\"\\n\\bDIFFERENCE BETWEEN MEAN AND MEDIAN:\",np.nanmean(badgesProductQuality)-np.nanmedian(badgesProductQuality))"
      ]
    },
    {
      "cell_type": "markdown",
      "metadata": {
        "id": "6ADKRVjGFPaa"
      },
      "source": [
        "###### (XIV) FOR BADGES FAST SHIPPING "
      ]
    },
    {
      "cell_type": "code",
      "execution_count": 22,
      "metadata": {
        "colab": {
          "base_uri": "https://localhost:8080/"
        },
        "id": "e2H8Tc-OFPaa",
        "outputId": "05e56e7c-6f72-423d-98ef-0d09e5b05fa5"
      },
      "outputs": [
        {
          "output_type": "stream",
          "name": "stdout",
          "text": [
            "TOTAL SUM OF COLUMN BADGES_FAST_SHIPPING             : 20\n",
            "TOTAL COUNT OF NONZEROS IN BADGES_FAST_SHIPPING      : 20\n",
            "MAXIMUM VALUE IN BADGES_FAST_SHIPPING                : 1\n",
            "MINIMUM VALUE IN BADGES_FAST_SHIPPING                : 0\n",
            "MEDIAN VALUE OF BADGES_FAST_SHIPPING                 : 0.0\n",
            "MEAN VALUE OF BADGES_FAST_SHIPPING                   : 0.012714558169103624\n",
            "STANDARD DEVIATION OF BADGES_FAST_SHIPPING           : 0.11203971697424135\n",
            "25% VALUE IN BADGES_FAST_SHIPPING                    : 0.0\n",
            "50% VALUE IN BADGES_FAST_SHIPPING                    : 0.0\n",
            "75% VALUE IN BADGES_FAST_SHIPPING                    : 0.0\n",
            "\n",
            "\bDIFFERENCE BETWEEN MEAN AND MEDIAN: 0.012714558169103624\n"
          ]
        }
      ],
      "source": [
        "badgesFastShipping = dataFrame.badge_fast_shipping\n",
        "print(\"TOTAL SUM OF COLUMN BADGES_FAST_SHIPPING             :\",np.sum(badgesFastShipping))\n",
        "print(\"TOTAL COUNT OF NONZEROS IN BADGES_FAST_SHIPPING      :\",np.count_nonzero(badgesFastShipping))\n",
        "print(\"MAXIMUM VALUE IN BADGES_FAST_SHIPPING                :\",np.max(badgesFastShipping))\n",
        "print(\"MINIMUM VALUE IN BADGES_FAST_SHIPPING                :\",np.min(badgesFastShipping))\n",
        "print(\"MEDIAN VALUE OF BADGES_FAST_SHIPPING                 :\",np.nanmedian(badgesFastShipping))\n",
        "print(\"MEAN VALUE OF BADGES_FAST_SHIPPING                   :\",np.mean(badgesFastShipping))\n",
        "print(\"STANDARD DEVIATION OF BADGES_FAST_SHIPPING           :\",np.std(badgesFastShipping))\n",
        "print(\"25% VALUE IN BADGES_FAST_SHIPPING                    :\",np.nanpercentile(badgesFastShipping,25))\n",
        "print(\"50% VALUE IN BADGES_FAST_SHIPPING                    :\",np.nanpercentile(badgesFastShipping,50))\n",
        "print(\"75% VALUE IN BADGES_FAST_SHIPPING                    :\",np.nanpercentile(badgesFastShipping,75))\n",
        "\n",
        "print(\"\\n\\bDIFFERENCE BETWEEN MEAN AND MEDIAN:\",np.nanmean(badgesFastShipping)-np.nanmedian(badgesFastShipping))"
      ]
    },
    {
      "cell_type": "markdown",
      "metadata": {
        "id": "20sKgtE7FPaa"
      },
      "source": [
        "###### (XV) FOR PRODUCT VARIATION INVENTORY "
      ]
    },
    {
      "cell_type": "code",
      "execution_count": 23,
      "metadata": {
        "colab": {
          "base_uri": "https://localhost:8080/"
        },
        "id": "tPIe-HL8FPab",
        "outputId": "abf1cd17-ef49-4624-90b2-244c079a4bea"
      },
      "outputs": [
        {
          "output_type": "stream",
          "name": "stdout",
          "text": [
            "TOTAL SUM OF COLUMN PRODUCT_VARIATION_INVENTORY             : 52037\n",
            "TOTAL COUNT OF NONZEROS IN PRODUCT_VARIATION_INVENTORY      : 1573\n",
            "MAXIMUM VALUE IN PRODUCT_VARIATION_INVENTORY                : 50\n",
            "MINIMUM VALUE IN PRODUCT_VARIATION_INVENTORY                : 1\n",
            "MEDIAN VALUE OF PRODUCT_VARIATION_INVENTORY                 : 50.0\n",
            "MEAN VALUE OF PRODUCT_VARIATION_INVENTORY                   : 33.08137317228226\n",
            "STANDARD DEVIATION OF PRODUCT_VARIATION_INVENTORY           : 21.346348967959056\n",
            "25% VALUE IN PRODUCT_VARIATION_INVENTORY                    : 6.0\n",
            "50% VALUE IN PRODUCT_VARIATION_INVENTORY                    : 50.0\n",
            "75% VALUE IN PRODUCT_VARIATION_INVENTORY                    : 50.0\n",
            "\n",
            "\bDIFFERENCE BETWEEN MEAN AND MEDIAN: -16.918626827717738\n"
          ]
        }
      ],
      "source": [
        "productVaritaionInventory = dataFrame.product_variation_inventory\n",
        "print(\"TOTAL SUM OF COLUMN PRODUCT_VARIATION_INVENTORY             :\",np.sum(productVaritaionInventory))\n",
        "print(\"TOTAL COUNT OF NONZEROS IN PRODUCT_VARIATION_INVENTORY      :\",np.count_nonzero(productVaritaionInventory))\n",
        "print(\"MAXIMUM VALUE IN PRODUCT_VARIATION_INVENTORY                :\",np.max(productVaritaionInventory))\n",
        "print(\"MINIMUM VALUE IN PRODUCT_VARIATION_INVENTORY                :\",np.min(productVaritaionInventory))\n",
        "print(\"MEDIAN VALUE OF PRODUCT_VARIATION_INVENTORY                 :\",np.nanmedian(productVaritaionInventory))\n",
        "print(\"MEAN VALUE OF PRODUCT_VARIATION_INVENTORY                   :\",np.mean(productVaritaionInventory))\n",
        "print(\"STANDARD DEVIATION OF PRODUCT_VARIATION_INVENTORY           :\",np.std(productVaritaionInventory))\n",
        "print(\"25% VALUE IN PRODUCT_VARIATION_INVENTORY                    :\",np.nanpercentile(productVaritaionInventory,25))\n",
        "print(\"50% VALUE IN PRODUCT_VARIATION_INVENTORY                    :\",np.nanpercentile(productVaritaionInventory,50))\n",
        "print(\"75% VALUE IN PRODUCT_VARIATION_INVENTORY                    :\",np.nanpercentile(productVaritaionInventory,75))\n",
        "\n",
        "print(\"\\n\\bDIFFERENCE BETWEEN MEAN AND MEDIAN:\",np.nanmean(productVaritaionInventory)-np.nanmedian(productVaritaionInventory))"
      ]
    },
    {
      "cell_type": "markdown",
      "metadata": {
        "id": "DZsBeOX4FPac"
      },
      "source": [
        "###### (XVI) FOR SHIPPING OPTION PRICE "
      ]
    },
    {
      "cell_type": "code",
      "execution_count": 24,
      "metadata": {
        "colab": {
          "base_uri": "https://localhost:8080/"
        },
        "id": "Hc9TSi6LFPac",
        "outputId": "ea3945a8-e8c6-434a-fdfe-2306f6a52122"
      },
      "outputs": [
        {
          "output_type": "stream",
          "name": "stdout",
          "text": [
            "TOTAL SUM OF COLUMN SHIPPING_OPTION_PRICE             : 3689\n",
            "TOTAL COUNT OF NONZEROS IN SHIPPING_OPTION_PRICE      : 1573\n",
            "MAXIMUM VALUE IN SHIPPING_OPTION_PRICE                : 12\n",
            "MINIMUM VALUE IN SHIPPING_OPTION_PRICE                : 1\n",
            "MEDIAN VALUE OF SHIPPING_OPTION_PRICE                 : 2.0\n",
            "MEAN VALUE OF SHIPPING_OPTION_PRICE                   : 2.3452002542911634\n",
            "STANDARD DEVIATION OF SHIPPING_OPTION_PRICE           : 1.0240453858445357\n",
            "25% VALUE IN SHIPPING_OPTION_PRICE                    : 2.0\n",
            "50% VALUE IN SHIPPING_OPTION_PRICE                    : 2.0\n",
            "75% VALUE IN SHIPPING_OPTION_PRICE                    : 3.0\n",
            "\n",
            "\bDIFFERENCE BETWEEN MEAN AND MEDIAN: 0.3452002542911634\n"
          ]
        }
      ],
      "source": [
        "shippingOptionPrice = dataFrame.shipping_option_price\n",
        "print(\"TOTAL SUM OF COLUMN SHIPPING_OPTION_PRICE             :\",np.sum(shippingOptionPrice))\n",
        "print(\"TOTAL COUNT OF NONZEROS IN SHIPPING_OPTION_PRICE      :\",np.count_nonzero(shippingOptionPrice))\n",
        "print(\"MAXIMUM VALUE IN SHIPPING_OPTION_PRICE                :\",np.max(shippingOptionPrice))\n",
        "print(\"MINIMUM VALUE IN SHIPPING_OPTION_PRICE                :\",np.min(shippingOptionPrice))\n",
        "print(\"MEDIAN VALUE OF SHIPPING_OPTION_PRICE                 :\",np.nanmedian(shippingOptionPrice))\n",
        "print(\"MEAN VALUE OF SHIPPING_OPTION_PRICE                   :\",np.mean(shippingOptionPrice))\n",
        "print(\"STANDARD DEVIATION OF SHIPPING_OPTION_PRICE           :\",np.std(shippingOptionPrice))\n",
        "print(\"25% VALUE IN SHIPPING_OPTION_PRICE                    :\",np.nanpercentile(shippingOptionPrice,25))\n",
        "print(\"50% VALUE IN SHIPPING_OPTION_PRICE                    :\",np.nanpercentile(shippingOptionPrice,50))\n",
        "print(\"75% VALUE IN SHIPPING_OPTION_PRICE                    :\",np.nanpercentile(shippingOptionPrice,75))\n",
        "\n",
        "print(\"\\n\\bDIFFERENCE BETWEEN MEAN AND MEDIAN:\",np.nanmean(shippingOptionPrice)-np.nanmedian(shippingOptionPrice))"
      ]
    },
    {
      "cell_type": "markdown",
      "metadata": {
        "id": "tw46HYeZFPad"
      },
      "source": [
        "###### (XVII) FOR SHIPPING IS EXPRESS"
      ]
    },
    {
      "cell_type": "code",
      "execution_count": 25,
      "metadata": {
        "colab": {
          "base_uri": "https://localhost:8080/"
        },
        "id": "AK02pR7CFPad",
        "outputId": "b310cea6-c956-452e-a0c5-cb6042afb2e2"
      },
      "outputs": [
        {
          "output_type": "stream",
          "name": "stdout",
          "text": [
            "TOTAL SUM OF COLUMN SHIPPING_IS_EXPERESS             : 4\n",
            "TOTAL COUNT OF NONZEROS IN SHIPPING_IS_EXPERESS      : 4\n",
            "MAXIMUM VALUE IN SHIPPING_IS_EXPERESS                : 1\n",
            "MINIMUM VALUE IN SHIPPING_IS_EXPERESS                : 0\n",
            "MEDIAN VALUE OF SHIPPING_IS_EXPERESS                 : 0.0\n",
            "MEAN VALUE OF SHIPPING_IS_EXPERESS                   : 0.0025429116338207248\n",
            "STANDARD DEVIATION OF SHIPPING_IS_EXPERESS           : 0.050363133681725014\n",
            "25% VALUE IN SHIPPING_IS_EXPERESS                    : 0.0\n",
            "50% VALUE IN SHIPPING_IS_EXPERESS                    : 0.0\n",
            "75% VALUE IN SHIPPING_IS_EXPERESS                    : 0.0\n",
            "\n",
            "\bDIFFERENCE BETWEEN MEAN AND MEDIAN: 0.0025429116338207248\n"
          ]
        }
      ],
      "source": [
        "shippingIsExpress = dataFrame.shipping_is_express\n",
        "print(\"TOTAL SUM OF COLUMN SHIPPING_IS_EXPERESS             :\",np.sum(shippingIsExpress))\n",
        "print(\"TOTAL COUNT OF NONZEROS IN SHIPPING_IS_EXPERESS      :\",np.count_nonzero(shippingIsExpress))\n",
        "print(\"MAXIMUM VALUE IN SHIPPING_IS_EXPERESS                :\",np.max(shippingIsExpress))\n",
        "print(\"MINIMUM VALUE IN SHIPPING_IS_EXPERESS                :\",np.min(shippingIsExpress))\n",
        "print(\"MEDIAN VALUE OF SHIPPING_IS_EXPERESS                 :\",np.nanmedian(shippingIsExpress))\n",
        "print(\"MEAN VALUE OF SHIPPING_IS_EXPERESS                   :\",np.mean(shippingIsExpress))\n",
        "print(\"STANDARD DEVIATION OF SHIPPING_IS_EXPERESS           :\",np.std(shippingIsExpress))\n",
        "print(\"25% VALUE IN SHIPPING_IS_EXPERESS                    :\",np.nanpercentile(shippingIsExpress,25))\n",
        "print(\"50% VALUE IN SHIPPING_IS_EXPERESS                    :\",np.nanpercentile(shippingIsExpress,50))\n",
        "print(\"75% VALUE IN SHIPPING_IS_EXPERESS                    :\",np.nanpercentile(shippingIsExpress,75))\n",
        "\n",
        "print(\"\\n\\bDIFFERENCE BETWEEN MEAN AND MEDIAN:\",np.nanmean(shippingIsExpress)-np.nanmedian(shippingIsExpress))"
      ]
    },
    {
      "cell_type": "markdown",
      "metadata": {
        "id": "4lpeCu-EFPae"
      },
      "source": [
        "###### (XVIII) FOR COUNTRIES SHIPPED TO"
      ]
    },
    {
      "cell_type": "code",
      "execution_count": 26,
      "metadata": {
        "colab": {
          "base_uri": "https://localhost:8080/"
        },
        "id": "LwrcNT2_FPae",
        "outputId": "34634962-b617-42cf-8103-667b4ba50e9f"
      },
      "outputs": [
        {
          "output_type": "stream",
          "name": "stdout",
          "text": [
            "TOTAL SUM OF COLUMN COUNTRIES_SHIPPED_TO             : 63638\n",
            "TOTAL COUNT OF NONZEROS IN COUNTRIES_SHIPPED_TO      : 1573\n",
            "MAXIMUM VALUE IN COUNTRIES_SHIPPED_TO                : 140\n",
            "MINIMUM VALUE IN COUNTRIES_SHIPPED_TO                : 6\n",
            "MEDIAN VALUE OF COUNTRIES_SHIPPED_TO                 : 40.0\n",
            "MEAN VALUE OF COUNTRIES_SHIPPED_TO                   : 40.45645263827082\n",
            "STANDARD DEVIATION OF COUNTRIES_SHIPPED_TO           : 20.29474903832882\n",
            "25% VALUE IN COUNTRIES_SHIPPED_TO                    : 31.0\n",
            "50% VALUE IN COUNTRIES_SHIPPED_TO                    : 40.0\n",
            "75% VALUE IN COUNTRIES_SHIPPED_TO                    : 43.0\n",
            "\n",
            "\bDIFFERENCE BETWEEN MEAN AND MEDIAN: 0.45645263827081806\n"
          ]
        }
      ],
      "source": [
        "countriesShippedTo = dataFrame.countries_shipped_to\n",
        "print(\"TOTAL SUM OF COLUMN COUNTRIES_SHIPPED_TO             :\",np.sum(countriesShippedTo))\n",
        "print(\"TOTAL COUNT OF NONZEROS IN COUNTRIES_SHIPPED_TO      :\",np.count_nonzero(countriesShippedTo))\n",
        "print(\"MAXIMUM VALUE IN COUNTRIES_SHIPPED_TO                :\",np.max(countriesShippedTo))\n",
        "print(\"MINIMUM VALUE IN COUNTRIES_SHIPPED_TO                :\",np.min(countriesShippedTo))\n",
        "print(\"MEDIAN VALUE OF COUNTRIES_SHIPPED_TO                 :\",np.nanmedian(countriesShippedTo))\n",
        "print(\"MEAN VALUE OF COUNTRIES_SHIPPED_TO                   :\",np.mean(countriesShippedTo))\n",
        "print(\"STANDARD DEVIATION OF COUNTRIES_SHIPPED_TO           :\",np.std(countriesShippedTo))\n",
        "print(\"25% VALUE IN COUNTRIES_SHIPPED_TO                    :\",np.nanpercentile(countriesShippedTo,25))\n",
        "print(\"50% VALUE IN COUNTRIES_SHIPPED_TO                    :\",np.nanpercentile(countriesShippedTo,50))\n",
        "print(\"75% VALUE IN COUNTRIES_SHIPPED_TO                    :\",np.nanpercentile(countriesShippedTo,75))\n",
        "\n",
        "print(\"\\n\\bDIFFERENCE BETWEEN MEAN AND MEDIAN:\",np.nanmean(countriesShippedTo)-np.nanmedian(countriesShippedTo))"
      ]
    },
    {
      "cell_type": "markdown",
      "metadata": {
        "id": "SwdeJi0xFPae"
      },
      "source": [
        "###### (XIX) FOR INVENTORY TOTAL"
      ]
    },
    {
      "cell_type": "code",
      "execution_count": 27,
      "metadata": {
        "colab": {
          "base_uri": "https://localhost:8080/"
        },
        "id": "_BnAsKKAFPaf",
        "outputId": "fe5d040f-644b-412b-f367-336f01038285"
      },
      "outputs": [
        {
          "output_type": "stream",
          "name": "stdout",
          "text": [
            "TOTAL SUM OF COLUMN INVENTORY_TOTAL             : 78369\n",
            "TOTAL COUNT OF NONZEROS IN INVENTORY_TOTAL      : 1573\n",
            "MAXIMUM VALUE IN INVENTORY_TOTAL                : 50\n",
            "MINIMUM VALUE IN INVENTORY_TOTAL                : 1\n",
            "MEDIAN VALUE OF INVENTORY_TOTAL                 : 50.0\n",
            "MEAN VALUE OF INVENTORY_TOTAL                   : 49.8213604577241\n",
            "STANDARD DEVIATION OF INVENTORY_TOTAL           : 2.5619845753161665\n",
            "25% VALUE IN INVENTORY_TOTAL                    : 50.0\n",
            "50% VALUE IN INVENTORY_TOTAL                    : 50.0\n",
            "75% VALUE IN INVENTORY_TOTAL                    : 50.0\n",
            "\n",
            "\bDIFFERENCE BETWEEN MEAN AND MEDIAN: -0.17863954227590284\n"
          ]
        }
      ],
      "source": [
        "inventoryTotal = dataFrame.inventory_total\n",
        "print(\"TOTAL SUM OF COLUMN INVENTORY_TOTAL             :\",np.sum(inventoryTotal))\n",
        "print(\"TOTAL COUNT OF NONZEROS IN INVENTORY_TOTAL      :\",np.count_nonzero(inventoryTotal))\n",
        "print(\"MAXIMUM VALUE IN INVENTORY_TOTAL                :\",np.max(inventoryTotal))\n",
        "print(\"MINIMUM VALUE IN INVENTORY_TOTAL                :\",np.min(inventoryTotal))\n",
        "print(\"MEDIAN VALUE OF INVENTORY_TOTAL                 :\",np.nanmedian(inventoryTotal))\n",
        "print(\"MEAN VALUE OF INVENTORY_TOTAL                   :\",np.mean(inventoryTotal))\n",
        "print(\"STANDARD DEVIATION OF INVENTORY_TOTAL           :\",np.std(inventoryTotal))\n",
        "print(\"25% VALUE IN INVENTORY_TOTAL                    :\",np.nanpercentile(inventoryTotal,25))\n",
        "print(\"50% VALUE IN INVENTORY_TOTAL                    :\",np.nanpercentile(inventoryTotal,50))\n",
        "print(\"75% VALUE IN INVENTORY_TOTAL                    :\",np.nanpercentile(inventoryTotal,75))\n",
        "\n",
        "print(\"\\n\\bDIFFERENCE BETWEEN MEAN AND MEDIAN:\",np.nanmean(inventoryTotal)-np.nanmedian(inventoryTotal))"
      ]
    },
    {
      "cell_type": "markdown",
      "metadata": {
        "id": "O6-QhfdNFPaf"
      },
      "source": [
        "###### (XX) FOR URGENCY BANNER"
      ]
    },
    {
      "cell_type": "code",
      "execution_count": 28,
      "metadata": {
        "colab": {
          "base_uri": "https://localhost:8080/"
        },
        "id": "32AOeGQsFPaf",
        "outputId": "d4e27a3f-a732-44d0-9da2-0e5ca35c698b"
      },
      "outputs": [
        {
          "output_type": "stream",
          "name": "stdout",
          "text": [
            "TOTAL SUM OF COLUMN URGENCY_BANNER             : 473.0\n",
            "TOTAL COUNT OF NONZEROS IN URGENCY_BANNER      : 1573\n",
            "MAXIMUM VALUE IN URGENCY_BANNER                : 1.0\n",
            "MINIMUM VALUE IN URGENCY_BANNER                : 1.0\n",
            "MEDIAN VALUE OF URGENCY_BANNER                 : 1.0\n",
            "MEAN VALUE OF URGENCY_BANNER                   : 1.0\n",
            "STANDARD DEVIATION OF URGENCY_BANNER           : 0.0\n",
            "25% VALUE IN URGENCY_BANNER                    : 1.0\n",
            "50% VALUE IN URGENCY_BANNER                    : 1.0\n",
            "75% VALUE IN URGENCY_BANNER                    : 1.0\n",
            "\n",
            "\bDIFFERENCE BETWEEN MEAN AND MEDIAN: 0.0\n"
          ]
        }
      ],
      "source": [
        "urgencyBanner = dataFrame.has_urgency_banner\n",
        "print(\"TOTAL SUM OF COLUMN URGENCY_BANNER             :\",np.sum(urgencyBanner))\n",
        "print(\"TOTAL COUNT OF NONZEROS IN URGENCY_BANNER      :\",np.count_nonzero(urgencyBanner))\n",
        "print(\"MAXIMUM VALUE IN URGENCY_BANNER                :\",np.max(urgencyBanner))\n",
        "print(\"MINIMUM VALUE IN URGENCY_BANNER                :\",np.min(urgencyBanner))\n",
        "print(\"MEDIAN VALUE OF URGENCY_BANNER                 :\",np.nanmedian(urgencyBanner))\n",
        "print(\"MEAN VALUE OF URGENCY_BANNER                   :\",np.mean(urgencyBanner))\n",
        "print(\"STANDARD DEVIATION OF URGENCY_BANNER           :\",np.std(urgencyBanner))\n",
        "print(\"25% VALUE IN URGENCY_BANNER                    :\",np.nanpercentile(urgencyBanner,25))\n",
        "print(\"50% VALUE IN URGENCY_BANNER                    :\",np.nanpercentile(urgencyBanner,50))\n",
        "print(\"75% VALUE IN URGENCY_BANNER                    :\",np.nanpercentile(urgencyBanner,75))\n",
        "\n",
        "print(\"\\n\\bDIFFERENCE BETWEEN MEAN AND MEDIAN:\",np.nanmean(urgencyBanner)-np.nanmedian(urgencyBanner))"
      ]
    },
    {
      "cell_type": "markdown",
      "metadata": {
        "id": "8FGltgBfFPag"
      },
      "source": [
        "###### (XXI) FOR MERCHANT RATING COUNT"
      ]
    },
    {
      "cell_type": "code",
      "execution_count": 29,
      "metadata": {
        "colab": {
          "base_uri": "https://localhost:8080/"
        },
        "id": "xNpoBTS2FPag",
        "outputId": "162ff852-05a2-42dd-835e-bf69d1025480"
      },
      "outputs": [
        {
          "output_type": "stream",
          "name": "stdout",
          "text": [
            "TOTAL SUM OF COLUMN MERCHANT_RATING_COUNT             : 41677945\n",
            "TOTAL COUNT OF NONZEROS IN MERCHANT_RATING_COUNT      : 1572\n",
            "MAXIMUM VALUE IN MERCHANT_RATING_COUNT                : 2174765\n",
            "MINIMUM VALUE IN MERCHANT_RATING_COUNT                : 0\n",
            "MEDIAN VALUE OF MERCHANT_RATING_COUNT                 : 7936.0\n",
            "MEAN VALUE OF MERCHANT_RATING_COUNT                   : 26495.832803560075\n",
            "STANDARD DEVIATION OF MERCHANT_RATING_COUNT           : 78449.5074407126\n",
            "25% VALUE IN MERCHANT_RATING_COUNT                    : 1987.0\n",
            "50% VALUE IN MERCHANT_RATING_COUNT                    : 7936.0\n",
            "75% VALUE IN MERCHANT_RATING_COUNT                    : 24564.0\n",
            "\n",
            "\bDIFFERENCE BETWEEN MEAN AND MEDIAN: 18559.832803560075\n"
          ]
        }
      ],
      "source": [
        "merchantRatingCount = dataFrame.merchant_rating_count\n",
        "print(\"TOTAL SUM OF COLUMN MERCHANT_RATING_COUNT             :\",np.sum(merchantRatingCount))\n",
        "print(\"TOTAL COUNT OF NONZEROS IN MERCHANT_RATING_COUNT      :\",np.count_nonzero(merchantRatingCount))\n",
        "print(\"MAXIMUM VALUE IN MERCHANT_RATING_COUNT                :\",np.max(merchantRatingCount))\n",
        "print(\"MINIMUM VALUE IN MERCHANT_RATING_COUNT                :\",np.min(merchantRatingCount))\n",
        "print(\"MEDIAN VALUE OF MERCHANT_RATING_COUNT                 :\",np.nanmedian(merchantRatingCount))\n",
        "print(\"MEAN VALUE OF MERCHANT_RATING_COUNT                   :\",np.mean(merchantRatingCount))\n",
        "print(\"STANDARD DEVIATION OF MERCHANT_RATING_COUNT           :\",np.std(merchantRatingCount))\n",
        "print(\"25% VALUE IN MERCHANT_RATING_COUNT                    :\",np.nanpercentile(merchantRatingCount,25))\n",
        "print(\"50% VALUE IN MERCHANT_RATING_COUNT                    :\",np.nanpercentile(merchantRatingCount,50))\n",
        "print(\"75% VALUE IN MERCHANT_RATING_COUNT                    :\",np.nanpercentile(merchantRatingCount,75))\n",
        "\n",
        "print(\"\\n\\bDIFFERENCE BETWEEN MEAN AND MEDIAN:\",np.nanmean(merchantRatingCount)-np.nanmedian(merchantRatingCount))"
      ]
    },
    {
      "cell_type": "markdown",
      "metadata": {
        "id": "yfJiSQ8PFPag"
      },
      "source": [
        "###### (XXII) FOR MERCHANT RATING"
      ]
    },
    {
      "cell_type": "code",
      "execution_count": 30,
      "metadata": {
        "colab": {
          "base_uri": "https://localhost:8080/"
        },
        "id": "HYhP_fNeFPag",
        "outputId": "47789115-13e1-4df5-8eac-f1c03b9f6c78"
      },
      "outputs": [
        {
          "output_type": "stream",
          "name": "stdout",
          "text": [
            "TOTAL SUM OF COLUMN MERCHANT_RATING             : 6342.878872655588\n",
            "TOTAL COUNT OF NONZEROS IN MERCHANT_RATING      : 1573\n",
            "MAXIMUM VALUE IN MERCHANT_RATING                : 5.0\n",
            "MINIMUM VALUE IN MERCHANT_RATING                : 2.333333333333333\n",
            "MEDIAN VALUE OF MERCHANT_RATING                 : 4.040650406504065\n",
            "MEAN VALUE OF MERCHANT_RATING                   : 4.0323451192978945\n",
            "STANDARD DEVIATION OF MERCHANT_RATING           : 0.20470289827710106\n",
            "25% VALUE IN MERCHANT_RATING                    : 3.917353418992764\n",
            "50% VALUE IN MERCHANT_RATING                    : 4.040650406504065\n",
            "75% VALUE IN MERCHANT_RATING                    : 4.161796722814255\n",
            "\n",
            "\bDIFFERENCE BETWEEN MEAN AND MEDIAN: -0.008305287206170853\n"
          ]
        }
      ],
      "source": [
        "merchantRating = dataFrame.merchant_rating\n",
        "print(\"TOTAL SUM OF COLUMN MERCHANT_RATING             :\",np.sum(merchantRating))\n",
        "print(\"TOTAL COUNT OF NONZEROS IN MERCHANT_RATING      :\",np.count_nonzero(merchantRating))\n",
        "print(\"MAXIMUM VALUE IN MERCHANT_RATING                :\",np.max(merchantRating))\n",
        "print(\"MINIMUM VALUE IN MERCHANT_RATING                :\",np.min(merchantRating))\n",
        "print(\"MEDIAN VALUE OF MERCHANT_RATING                 :\",np.nanmedian(merchantRating))\n",
        "print(\"MEAN VALUE OF MERCHANT_RATING                   :\",np.mean(merchantRating))\n",
        "print(\"STANDARD DEVIATION OF MERCHANT_RATING           :\",np.std(merchantRating))\n",
        "print(\"25% VALUE IN MERCHANT_RATING                    :\",np.nanpercentile(merchantRating,25))\n",
        "print(\"50% VALUE IN MERCHANT_RATING                    :\",np.nanpercentile(merchantRating,50))\n",
        "print(\"75% VALUE IN MERCHANT_RATING                    :\",np.nanpercentile(merchantRating,75))\n",
        "\n",
        "print(\"\\n\\bDIFFERENCE BETWEEN MEAN AND MEDIAN:\",np.nanmean(merchantRating)-np.nanmedian(merchantRating))"
      ]
    },
    {
      "cell_type": "markdown",
      "metadata": {
        "id": "4sHNRSTqFPah"
      },
      "source": [
        "###### (XXIII) FOR MERCHANT PROFILE PICTURE"
      ]
    },
    {
      "cell_type": "code",
      "execution_count": 31,
      "metadata": {
        "colab": {
          "base_uri": "https://localhost:8080/"
        },
        "id": "aKNenkm-FPah",
        "outputId": "de9f0b2f-f488-46d3-c766-3e10df29a212"
      },
      "outputs": [
        {
          "output_type": "stream",
          "name": "stdout",
          "text": [
            "TOTAL SUM OF COLUMN MERCHANT_PROFILE_PIC             : 226\n",
            "TOTAL COUNT OF NONZEROS IN MERCHANT_PROFILE_PIC      : 226\n",
            "MAXIMUM VALUE IN MERCHANT_PROFILE_PIC                : 1\n",
            "MINIMUM VALUE IN MERCHANT_PROFILE_PIC                : 0\n",
            "MEDIAN VALUE OF MERCHANT_PROFILE_PIC                 : 0.0\n",
            "MEAN VALUE OF MERCHANT_PROFILE_PIC                   : 0.14367450731087095\n",
            "STANDARD DEVIATION OF MERCHANT_PROFILE_PIC           : 0.3507593808579457\n",
            "25% VALUE IN MERCHANT_PROFILE_PIC                    : 0.0\n",
            "50% VALUE IN MERCHANT_PROFILE_PIC                    : 0.0\n",
            "75% VALUE IN MERCHANT_PROFILE_PIC                    : 0.0\n",
            "\n",
            "\bDIFFERENCE BETWEEN MEAN AND MEDIAN: 0.14367450731087095\n"
          ]
        }
      ],
      "source": [
        "merchantProfilePic = dataFrame.merchant_has_profile_picture\n",
        "print(\"TOTAL SUM OF COLUMN MERCHANT_PROFILE_PIC             :\",np.sum(merchantProfilePic))\n",
        "print(\"TOTAL COUNT OF NONZEROS IN MERCHANT_PROFILE_PIC      :\",np.count_nonzero(merchantProfilePic))\n",
        "print(\"MAXIMUM VALUE IN MERCHANT_PROFILE_PIC                :\",np.max(merchantProfilePic))\n",
        "print(\"MINIMUM VALUE IN MERCHANT_PROFILE_PIC                :\",np.min(merchantProfilePic))\n",
        "print(\"MEDIAN VALUE OF MERCHANT_PROFILE_PIC                 :\",np.nanmedian(merchantProfilePic))\n",
        "print(\"MEAN VALUE OF MERCHANT_PROFILE_PIC                   :\",np.mean(merchantProfilePic))\n",
        "print(\"STANDARD DEVIATION OF MERCHANT_PROFILE_PIC           :\",np.std(merchantProfilePic))\n",
        "print(\"25% VALUE IN MERCHANT_PROFILE_PIC                    :\",np.nanpercentile(merchantProfilePic,25))\n",
        "print(\"50% VALUE IN MERCHANT_PROFILE_PIC                    :\",np.nanpercentile(merchantProfilePic,50))\n",
        "print(\"75% VALUE IN MERCHANT_PROFILE_PIC                    :\",np.nanpercentile(merchantProfilePic,75))\n",
        "\n",
        "print(\"\\n\\bDIFFERENCE BETWEEN MEAN AND MEDIAN:\",np.nanmean(merchantProfilePic)-np.nanmedian(merchantProfilePic))"
      ]
    },
    {
      "cell_type": "markdown",
      "metadata": {
        "id": "XpcbpgPwFPai"
      },
      "source": [
        "###### 8.BOXPLOT OF RATING"
      ]
    },
    {
      "cell_type": "code",
      "execution_count": 32,
      "metadata": {
        "colab": {
          "base_uri": "https://localhost:8080/",
          "height": 299
        },
        "id": "FKGH-58dFPai",
        "outputId": "fdf5e807-1dcc-46d5-d6ae-5a06c0ce7a92"
      },
      "outputs": [
        {
          "output_type": "execute_result",
          "data": {
            "text/plain": [
              "Text(0.5, 1.0, 'BOXPLOT OF RATING')"
            ]
          },
          "metadata": {},
          "execution_count": 32
        },
        {
          "output_type": "display_data",
          "data": {
            "text/plain": [
              "<Figure size 432x288 with 1 Axes>"
            ],
            "image/png": "[encoded data removed]"
          },
          "metadata": {
            "needs_background": "light"
          }
        }
      ],
      "source": [
        "dataFrame.boxplot(column = ['rating'])\n",
        "plt.title(\"BOXPLOT OF RATING\",fontsize = 14)"
      ]
    },
    {
      "cell_type": "code",
      "source": [],
      "metadata": {
        "id": "zwNoRYfNF6op"
      },
      "execution_count": 33,
      "outputs": []
    }
  ],
  "metadata": {
    "kernelspec": {
      "display_name": "Python 3",
      "language": "python",
      "name": "python3"
    },
    "language_info": {
      "codemirror_mode": {
        "name": "ipython",
        "version": 3
      },
      "file_extension": ".py",
      "mimetype": "text/x-python",
      "name": "python",
      "nbconvert_exporter": "python",
      "pygments_lexer": "ipython3",
      "version": "3.8.3"
    },
    "colab": {
      "provenance": []
    }
  },
  "nbformat": 4,
  "nbformat_minor": 0
}